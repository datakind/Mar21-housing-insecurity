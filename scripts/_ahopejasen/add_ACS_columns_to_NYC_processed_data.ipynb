{
 "cells": [
  {
   "cell_type": "code",
   "execution_count": 27,
   "metadata": {},
   "outputs": [],
   "source": [
    "import pandas as pd\n",
    "import numpy as np\n",
    "import matplotlib.pyplot as plt"
   ]
  },
  {
   "cell_type": "markdown",
   "metadata": {},
   "source": [
    "## look at what was done in the Hillsboro dataset:"
   ]
  },
  {
   "cell_type": "code",
   "execution_count": 31,
   "metadata": {},
   "outputs": [
    {
     "data": {
      "text/plain": [
       "'/home/hopey/MEGAsync/src/datakind/Mar21-housing-insecurity/scripts/_ahopejasen'"
      ]
     },
     "execution_count": 31,
     "metadata": {},
     "output_type": "execute_result"
    }
   ],
   "source": [
    "pwd"
   ]
  },
  {
   "cell_type": "code",
   "execution_count": 34,
   "metadata": {},
   "outputs": [],
   "source": [
    "main_dir='../..'\n",
    "data_dir =main_dir + '/data'"
   ]
  },
  {
   "cell_type": "code",
   "execution_count": 7,
   "metadata": {},
   "outputs": [],
   "source": [
    "hl_orig = pd.read_csv(data_dir + \"/processed/hillsborough_fl_processed_2017_to_2019_20210225.csv\")"
   ]
  },
  {
   "cell_type": "code",
   "execution_count": 8,
   "metadata": {},
   "outputs": [
    {
     "data": {
      "text/plain": [
       "(321, 73)"
      ]
     },
     "execution_count": 8,
     "metadata": {},
     "output_type": "execute_result"
    }
   ],
   "source": [
    "hl_orig.shape\n"
   ]
  },
  {
   "cell_type": "code",
   "execution_count": 9,
   "metadata": {},
   "outputs": [],
   "source": [
    "hl_expand = pd.read_csv(data_dir +\"/processed/hillsborough_fl_processed_expanded_ACS_2017_to_2019_20210225.csv\")\n",
    "\n",
    "                        "
   ]
  },
  {
   "cell_type": "code",
   "execution_count": 10,
   "metadata": {},
   "outputs": [
    {
     "data": {
      "text/plain": [
       "(321, 1106)"
      ]
     },
     "execution_count": 10,
     "metadata": {},
     "output_type": "execute_result"
    }
   ],
   "source": [
    "hl_expand.shape"
   ]
  },
  {
   "cell_type": "code",
   "execution_count": 8,
   "metadata": {},
   "outputs": [
    {
     "data": {
      "text/plain": [
       "Index(['Unnamed: 0', 'census_tract_GEOID', 'total-households',\n",
       "       'total-renter-occupied-households', 'total-owner-occupied-households',\n",
       "       'total-owner-occupied-households-mortgage', 'median-gross-rent',\n",
       "       'median-household-income', 'median-property-value',\n",
       "       'median-monthly-housing-cost',\n",
       "       ...\n",
       "       'DP05_0080E', 'DP05_0080PE', 'DP05_0081E', 'DP05_0081PE', 'DP05_0082E',\n",
       "       'DP05_0082PE', 'DP05_0083E', 'DP05_0083PE', 'DP05_0084E',\n",
       "       'DP05_0084PE'],\n",
       "      dtype='object', length=1106)"
      ]
     },
     "execution_count": 8,
     "metadata": {},
     "output_type": "execute_result"
    }
   ],
   "source": [
    "hl_expand.columns"
   ]
  },
  {
   "cell_type": "code",
   "execution_count": 11,
   "metadata": {},
   "outputs": [],
   "source": [
    "hl_acs = pd.read_csv(data_dir + \"/acs/hillsborough_acs5-2018_census.csv\")"
   ]
  },
  {
   "cell_type": "code",
   "execution_count": 12,
   "metadata": {},
   "outputs": [
    {
     "data": {
      "text/plain": [
       "(321, 1034)"
      ]
     },
     "execution_count": 12,
     "metadata": {},
     "output_type": "execute_result"
    }
   ],
   "source": [
    "hl_acs.shape\n"
   ]
  },
  {
   "cell_type": "code",
   "execution_count": 13,
   "metadata": {},
   "outputs": [
    {
     "data": {
      "text/plain": [
       "Index(['index', 'DP02_0001E', 'DP02_0001PE', 'DP02_0002E', 'DP02_0002PE',\n",
       "       'DP02_0003E', 'DP02_0003PE', 'DP02_0004E', 'DP02_0004PE', 'DP02_0005E',\n",
       "       ...\n",
       "       'DP05_0080PE', 'DP05_0081E', 'DP05_0081PE', 'DP05_0082E', 'DP05_0082PE',\n",
       "       'DP05_0083E', 'DP05_0083PE', 'DP05_0084E', 'DP05_0084PE', 'GEOID'],\n",
       "      dtype='object', length=1034)"
      ]
     },
     "execution_count": 13,
     "metadata": {},
     "output_type": "execute_result"
    }
   ],
   "source": [
    "hl_acs.columns\n"
   ]
  },
  {
   "cell_type": "code",
   "execution_count": 14,
   "metadata": {},
   "outputs": [
    {
     "data": {
      "text/plain": [
       "{'GEOID', 'index'}"
      ]
     },
     "execution_count": 14,
     "metadata": {},
     "output_type": "execute_result"
    }
   ],
   "source": [
    "# which ACS columns were not added to the expanded dataset\n",
    "set(hl_acs.columns.to_list()) - set(hl_expand.columns.to_list())  #looks like all but the index and GEOID"
   ]
  },
  {
   "cell_type": "markdown",
   "metadata": {},
   "source": [
    "## tasks\n",
    "1. read docs to make sure GEOID in _processed_ and _ACS_ datasets are the same\n",
    "2. use data dict to make human readable column-names for ACS dataset\n",
    "3. understand what the processing step did so I don't undo it when adding extra (uprocesssed columns)\n",
    "4. merge the processed and human-readable ACS variables"
   ]
  },
  {
   "cell_type": "code",
   "execution_count": 16,
   "metadata": {},
   "outputs": [
    {
     "data": {
      "text/plain": [
       "False"
      ]
     },
     "execution_count": 16,
     "metadata": {},
     "output_type": "execute_result"
    }
   ],
   "source": [
    "# are the GEOID columns the same?\n",
    "pd.DataFrame.equals(hl_acs.GEOID, hl_expand.census_tract_GEOID)"
   ]
  },
  {
   "cell_type": "code",
   "execution_count": 17,
   "metadata": {},
   "outputs": [
    {
     "data": {
      "text/plain": [
       "(321,)"
      ]
     },
     "execution_count": 17,
     "metadata": {},
     "output_type": "execute_result"
    }
   ],
   "source": [
    "hl_acs.GEOID.shape\n"
   ]
  },
  {
   "cell_type": "code",
   "execution_count": 23,
   "metadata": {},
   "outputs": [
    {
     "data": {
      "text/plain": [
       "(321,)"
      ]
     },
     "execution_count": 23,
     "metadata": {},
     "output_type": "execute_result"
    }
   ],
   "source": [
    "hl_expand.census_tract_GEOID.shape"
   ]
  },
  {
   "cell_type": "code",
   "execution_count": 24,
   "metadata": {},
   "outputs": [
    {
     "data": {
      "text/plain": [
       "0    12057010103\n",
       "1    12057011006\n",
       "2    12057011108\n",
       "3    12057011203\n",
       "4    12057011206\n",
       "Name: census_tract_GEOID, dtype: int64"
      ]
     },
     "execution_count": 24,
     "metadata": {},
     "output_type": "execute_result"
    }
   ],
   "source": [
    "hl_expand.census_tract_GEOID.head()"
   ]
  },
  {
   "cell_type": "code",
   "execution_count": 25,
   "metadata": {},
   "outputs": [
    {
     "data": {
      "text/plain": [
       "0    12057013919\n",
       "1    12057013920\n",
       "2    12057013921\n",
       "3    12057001001\n",
       "4    12057005301\n",
       "Name: GEOID, dtype: int64"
      ]
     },
     "execution_count": 25,
     "metadata": {},
     "output_type": "execute_result"
    }
   ],
   "source": [
    "hl_acs.GEOID.head()"
   ]
  },
  {
   "cell_type": "code",
   "execution_count": 42,
   "metadata": {},
   "outputs": [
    {
     "data": {
      "text/plain": [
       "True"
      ]
     },
     "execution_count": 42,
     "metadata": {},
     "output_type": "execute_result"
    }
   ],
   "source": [
    "#ok, so maybe they are in different orders... lets see if they are the same sets\n",
    "len(set(hl_acs.GEOID)) == len(hl_expand.census_tract_GEOID) # no dups"
   ]
  },
  {
   "cell_type": "code",
   "execution_count": 19,
   "metadata": {},
   "outputs": [
    {
     "data": {
      "text/plain": [
       "True"
      ]
     },
     "execution_count": 19,
     "metadata": {},
     "output_type": "execute_result"
    }
   ],
   "source": [
    "set(hl_acs.GEOID) == set(hl_expand.census_tract_GEOID) # ok so they are the same sets, differently ordered."
   ]
  },
  {
   "cell_type": "markdown",
   "metadata": {},
   "source": [
    "## seems safe to just merge acs and processed data on GEOID"
   ]
  },
  {
   "cell_type": "code",
   "execution_count": 38,
   "metadata": {},
   "outputs": [
    {
     "data": {
      "text/plain": [
       "(2167, 52)"
      ]
     },
     "execution_count": 38,
     "metadata": {},
     "output_type": "execute_result"
    }
   ],
   "source": [
    "nyc_orig = pd.read_csv(data_dir + \"/processed/nyc_processed_2017_to_2019_20210225.csv\")\n",
    "nyc_orig.shape"
   ]
  },
  {
   "cell_type": "code",
   "execution_count": 41,
   "metadata": {},
   "outputs": [
    {
     "data": {
      "text/plain": [
       "(2167, 1034)"
      ]
     },
     "execution_count": 41,
     "metadata": {},
     "output_type": "execute_result"
    }
   ],
   "source": [
    "nyc_acs = pd.read_csv(data_dir + \"/acs/nyc_acs5-2018_census.csv\")\n",
    "nyc_acs.shape"
   ]
  },
  {
   "cell_type": "code",
   "execution_count": 43,
   "metadata": {},
   "outputs": [
    {
     "data": {
      "text/html": [
       "<div>\n",
       "<style scoped>\n",
       "    .dataframe tbody tr th:only-of-type {\n",
       "        vertical-align: middle;\n",
       "    }\n",
       "\n",
       "    .dataframe tbody tr th {\n",
       "        vertical-align: top;\n",
       "    }\n",
       "\n",
       "    .dataframe thead th {\n",
       "        text-align: right;\n",
       "    }\n",
       "</style>\n",
       "<table border=\"1\" class=\"dataframe\">\n",
       "  <thead>\n",
       "    <tr style=\"text-align: right;\">\n",
       "      <th></th>\n",
       "      <th>census_tract_GEOID</th>\n",
       "      <th>total-households</th>\n",
       "      <th>total-renter-occupied-households</th>\n",
       "      <th>total-owner-occupied-households</th>\n",
       "      <th>total-owner-occupied-households-mortgage</th>\n",
       "      <th>median-gross-rent</th>\n",
       "      <th>median-household-income</th>\n",
       "      <th>median-property-value</th>\n",
       "      <th>median-monthly-housing-cost</th>\n",
       "      <th>pct-white</th>\n",
       "      <th>...</th>\n",
       "      <th>eviction-rate-2018</th>\n",
       "      <th>total-evictions-2019</th>\n",
       "      <th>eviction-filings-2019</th>\n",
       "      <th>eviction-rate-2019</th>\n",
       "      <th>overall-city-eviction-rate</th>\n",
       "      <th>avg-eviction-rate</th>\n",
       "      <th>ratio-to-mean-eviction-rate</th>\n",
       "      <th>county_GEOID</th>\n",
       "      <th>county</th>\n",
       "      <th>state</th>\n",
       "    </tr>\n",
       "  </thead>\n",
       "  <tbody>\n",
       "    <tr>\n",
       "      <th>0</th>\n",
       "      <td>36085013204</td>\n",
       "      <td>1790</td>\n",
       "      <td>422</td>\n",
       "      <td>1368</td>\n",
       "      <td>798</td>\n",
       "      <td>1411</td>\n",
       "      <td>84866</td>\n",
       "      <td>493400</td>\n",
       "      <td>2396</td>\n",
       "      <td>95.4</td>\n",
       "      <td>...</td>\n",
       "      <td>0.562500</td>\n",
       "      <td>1.0</td>\n",
       "      <td>1.777778</td>\n",
       "      <td>0.562500</td>\n",
       "      <td>0.844547</td>\n",
       "      <td>0.710900</td>\n",
       "      <td>0.841753</td>\n",
       "      <td>36085</td>\n",
       "      <td>Staten Island</td>\n",
       "      <td>New York</td>\n",
       "    </tr>\n",
       "    <tr>\n",
       "      <th>1</th>\n",
       "      <td>36085013800</td>\n",
       "      <td>2369</td>\n",
       "      <td>441</td>\n",
       "      <td>1928</td>\n",
       "      <td>1030</td>\n",
       "      <td>1185</td>\n",
       "      <td>82361</td>\n",
       "      <td>561100</td>\n",
       "      <td>2404</td>\n",
       "      <td>98.8</td>\n",
       "      <td>...</td>\n",
       "      <td>0.333333</td>\n",
       "      <td>0.0</td>\n",
       "      <td>0.000000</td>\n",
       "      <td>0.000000</td>\n",
       "      <td>0.844547</td>\n",
       "      <td>0.453515</td>\n",
       "      <td>0.536992</td>\n",
       "      <td>36085</td>\n",
       "      <td>Staten Island</td>\n",
       "      <td>New York</td>\n",
       "    </tr>\n",
       "    <tr>\n",
       "      <th>2</th>\n",
       "      <td>36085014700</td>\n",
       "      <td>1341</td>\n",
       "      <td>241</td>\n",
       "      <td>1100</td>\n",
       "      <td>707</td>\n",
       "      <td>1220</td>\n",
       "      <td>84310</td>\n",
       "      <td>463800</td>\n",
       "      <td>2406</td>\n",
       "      <td>94.9</td>\n",
       "      <td>...</td>\n",
       "      <td>0.000000</td>\n",
       "      <td>1.0</td>\n",
       "      <td>1.666667</td>\n",
       "      <td>0.600000</td>\n",
       "      <td>0.844547</td>\n",
       "      <td>0.829876</td>\n",
       "      <td>0.982628</td>\n",
       "      <td>36085</td>\n",
       "      <td>Staten Island</td>\n",
       "      <td>New York</td>\n",
       "    </tr>\n",
       "    <tr>\n",
       "      <th>3</th>\n",
       "      <td>36085019700</td>\n",
       "      <td>712</td>\n",
       "      <td>99</td>\n",
       "      <td>613</td>\n",
       "      <td>366</td>\n",
       "      <td>1384</td>\n",
       "      <td>98167</td>\n",
       "      <td>449800</td>\n",
       "      <td>2297</td>\n",
       "      <td>95.4</td>\n",
       "      <td>...</td>\n",
       "      <td>0.000000</td>\n",
       "      <td>0.0</td>\n",
       "      <td>0.000000</td>\n",
       "      <td>0.000000</td>\n",
       "      <td>0.844547</td>\n",
       "      <td>1.010101</td>\n",
       "      <td>1.196027</td>\n",
       "      <td>36085</td>\n",
       "      <td>Staten Island</td>\n",
       "      <td>New York</td>\n",
       "    </tr>\n",
       "    <tr>\n",
       "      <th>4</th>\n",
       "      <td>36085020804</td>\n",
       "      <td>1988</td>\n",
       "      <td>179</td>\n",
       "      <td>1809</td>\n",
       "      <td>1270</td>\n",
       "      <td>1175</td>\n",
       "      <td>95417</td>\n",
       "      <td>602200</td>\n",
       "      <td>2820</td>\n",
       "      <td>92.6</td>\n",
       "      <td>...</td>\n",
       "      <td>0.454545</td>\n",
       "      <td>1.0</td>\n",
       "      <td>2.200000</td>\n",
       "      <td>0.454545</td>\n",
       "      <td>0.844547</td>\n",
       "      <td>1.117318</td>\n",
       "      <td>1.322979</td>\n",
       "      <td>36085</td>\n",
       "      <td>Staten Island</td>\n",
       "      <td>New York</td>\n",
       "    </tr>\n",
       "  </tbody>\n",
       "</table>\n",
       "<p>5 rows × 52 columns</p>\n",
       "</div>"
      ],
      "text/plain": [
       "   census_tract_GEOID  total-households  total-renter-occupied-households  \\\n",
       "0         36085013204              1790                               422   \n",
       "1         36085013800              2369                               441   \n",
       "2         36085014700              1341                               241   \n",
       "3         36085019700               712                                99   \n",
       "4         36085020804              1988                               179   \n",
       "\n",
       "   total-owner-occupied-households  total-owner-occupied-households-mortgage  \\\n",
       "0                             1368                                       798   \n",
       "1                             1928                                      1030   \n",
       "2                             1100                                       707   \n",
       "3                              613                                       366   \n",
       "4                             1809                                      1270   \n",
       "\n",
       "   median-gross-rent  median-household-income  median-property-value  \\\n",
       "0               1411                    84866                 493400   \n",
       "1               1185                    82361                 561100   \n",
       "2               1220                    84310                 463800   \n",
       "3               1384                    98167                 449800   \n",
       "4               1175                    95417                 602200   \n",
       "\n",
       "   median-monthly-housing-cost  pct-white  ...  eviction-rate-2018  \\\n",
       "0                         2396       95.4  ...            0.562500   \n",
       "1                         2404       98.8  ...            0.333333   \n",
       "2                         2406       94.9  ...            0.000000   \n",
       "3                         2297       95.4  ...            0.000000   \n",
       "4                         2820       92.6  ...            0.454545   \n",
       "\n",
       "   total-evictions-2019  eviction-filings-2019  eviction-rate-2019  \\\n",
       "0                   1.0               1.777778            0.562500   \n",
       "1                   0.0               0.000000            0.000000   \n",
       "2                   1.0               1.666667            0.600000   \n",
       "3                   0.0               0.000000            0.000000   \n",
       "4                   1.0               2.200000            0.454545   \n",
       "\n",
       "   overall-city-eviction-rate  avg-eviction-rate  ratio-to-mean-eviction-rate  \\\n",
       "0                    0.844547           0.710900                     0.841753   \n",
       "1                    0.844547           0.453515                     0.536992   \n",
       "2                    0.844547           0.829876                     0.982628   \n",
       "3                    0.844547           1.010101                     1.196027   \n",
       "4                    0.844547           1.117318                     1.322979   \n",
       "\n",
       "   county_GEOID         county     state  \n",
       "0         36085  Staten Island  New York  \n",
       "1         36085  Staten Island  New York  \n",
       "2         36085  Staten Island  New York  \n",
       "3         36085  Staten Island  New York  \n",
       "4         36085  Staten Island  New York  \n",
       "\n",
       "[5 rows x 52 columns]"
      ]
     },
     "execution_count": 43,
     "metadata": {},
     "output_type": "execute_result"
    }
   ],
   "source": [
    "nyc_orig.head()"
   ]
  },
  {
   "cell_type": "code",
   "execution_count": 44,
   "metadata": {},
   "outputs": [
    {
     "data": {
      "text/html": [
       "<div>\n",
       "<style scoped>\n",
       "    .dataframe tbody tr th:only-of-type {\n",
       "        vertical-align: middle;\n",
       "    }\n",
       "\n",
       "    .dataframe tbody tr th {\n",
       "        vertical-align: top;\n",
       "    }\n",
       "\n",
       "    .dataframe thead th {\n",
       "        text-align: right;\n",
       "    }\n",
       "</style>\n",
       "<table border=\"1\" class=\"dataframe\">\n",
       "  <thead>\n",
       "    <tr style=\"text-align: right;\">\n",
       "      <th></th>\n",
       "      <th>index</th>\n",
       "      <th>DP02_0001E</th>\n",
       "      <th>DP02_0001PE</th>\n",
       "      <th>DP02_0002E</th>\n",
       "      <th>DP02_0002PE</th>\n",
       "      <th>DP02_0003E</th>\n",
       "      <th>DP02_0003PE</th>\n",
       "      <th>DP02_0004E</th>\n",
       "      <th>DP02_0004PE</th>\n",
       "      <th>DP02_0005E</th>\n",
       "      <th>...</th>\n",
       "      <th>DP05_0080PE</th>\n",
       "      <th>DP05_0081E</th>\n",
       "      <th>DP05_0081PE</th>\n",
       "      <th>DP05_0082E</th>\n",
       "      <th>DP05_0082PE</th>\n",
       "      <th>DP05_0083E</th>\n",
       "      <th>DP05_0083PE</th>\n",
       "      <th>DP05_0084E</th>\n",
       "      <th>DP05_0084PE</th>\n",
       "      <th>GEOID</th>\n",
       "    </tr>\n",
       "  </thead>\n",
       "  <tbody>\n",
       "    <tr>\n",
       "      <th>0</th>\n",
       "      <td>Census Tract 244.01, Richmond County, New York...</td>\n",
       "      <td>2098</td>\n",
       "      <td>2098</td>\n",
       "      <td>1580</td>\n",
       "      <td>75.3</td>\n",
       "      <td>780</td>\n",
       "      <td>37.2</td>\n",
       "      <td>1246</td>\n",
       "      <td>59.4</td>\n",
       "      <td>660</td>\n",
       "      <td>...</td>\n",
       "      <td>2.1</td>\n",
       "      <td>0</td>\n",
       "      <td>0.0</td>\n",
       "      <td>0</td>\n",
       "      <td>0.0</td>\n",
       "      <td>87</td>\n",
       "      <td>1.4</td>\n",
       "      <td>0</td>\n",
       "      <td>0.0</td>\n",
       "      <td>36085024401</td>\n",
       "    </tr>\n",
       "    <tr>\n",
       "      <th>1</th>\n",
       "      <td>Census Tract 244.02, Richmond County, New York...</td>\n",
       "      <td>1686</td>\n",
       "      <td>1686</td>\n",
       "      <td>1185</td>\n",
       "      <td>70.3</td>\n",
       "      <td>610</td>\n",
       "      <td>36.2</td>\n",
       "      <td>1012</td>\n",
       "      <td>60.0</td>\n",
       "      <td>587</td>\n",
       "      <td>...</td>\n",
       "      <td>3.8</td>\n",
       "      <td>0</td>\n",
       "      <td>0.0</td>\n",
       "      <td>0</td>\n",
       "      <td>0.0</td>\n",
       "      <td>0</td>\n",
       "      <td>0.0</td>\n",
       "      <td>0</td>\n",
       "      <td>0.0</td>\n",
       "      <td>36085024402</td>\n",
       "    </tr>\n",
       "    <tr>\n",
       "      <th>2</th>\n",
       "      <td>Census Tract 277.05, Richmond County, New York...</td>\n",
       "      <td>1916</td>\n",
       "      <td>1916</td>\n",
       "      <td>1602</td>\n",
       "      <td>83.6</td>\n",
       "      <td>581</td>\n",
       "      <td>30.3</td>\n",
       "      <td>1349</td>\n",
       "      <td>70.4</td>\n",
       "      <td>472</td>\n",
       "      <td>...</td>\n",
       "      <td>21.2</td>\n",
       "      <td>0</td>\n",
       "      <td>0.0</td>\n",
       "      <td>0</td>\n",
       "      <td>0.0</td>\n",
       "      <td>256</td>\n",
       "      <td>4.4</td>\n",
       "      <td>0</td>\n",
       "      <td>0.0</td>\n",
       "      <td>36085027705</td>\n",
       "    </tr>\n",
       "    <tr>\n",
       "      <th>3</th>\n",
       "      <td>Census Tract 277.06, Richmond County, New York...</td>\n",
       "      <td>1101</td>\n",
       "      <td>1101</td>\n",
       "      <td>914</td>\n",
       "      <td>83.0</td>\n",
       "      <td>295</td>\n",
       "      <td>26.8</td>\n",
       "      <td>653</td>\n",
       "      <td>59.3</td>\n",
       "      <td>236</td>\n",
       "      <td>...</td>\n",
       "      <td>19.3</td>\n",
       "      <td>0</td>\n",
       "      <td>0.0</td>\n",
       "      <td>23</td>\n",
       "      <td>0.7</td>\n",
       "      <td>72</td>\n",
       "      <td>2.0</td>\n",
       "      <td>64</td>\n",
       "      <td>1.8</td>\n",
       "      <td>36085027706</td>\n",
       "    </tr>\n",
       "    <tr>\n",
       "      <th>4</th>\n",
       "      <td>Census Tract 9901, Richmond County, New York: ...</td>\n",
       "      <td>0</td>\n",
       "      <td>0</td>\n",
       "      <td>0</td>\n",
       "      <td>-666666666.0</td>\n",
       "      <td>0</td>\n",
       "      <td>-666666666.0</td>\n",
       "      <td>0</td>\n",
       "      <td>-666666666.0</td>\n",
       "      <td>0</td>\n",
       "      <td>...</td>\n",
       "      <td>-666666666.0</td>\n",
       "      <td>0</td>\n",
       "      <td>-666666666.0</td>\n",
       "      <td>0</td>\n",
       "      <td>-666666666.0</td>\n",
       "      <td>0</td>\n",
       "      <td>-666666666.0</td>\n",
       "      <td>0</td>\n",
       "      <td>-666666666.0</td>\n",
       "      <td>36085990100</td>\n",
       "    </tr>\n",
       "  </tbody>\n",
       "</table>\n",
       "<p>5 rows × 1034 columns</p>\n",
       "</div>"
      ],
      "text/plain": [
       "                                               index  DP02_0001E  DP02_0001PE  \\\n",
       "0  Census Tract 244.01, Richmond County, New York...        2098         2098   \n",
       "1  Census Tract 244.02, Richmond County, New York...        1686         1686   \n",
       "2  Census Tract 277.05, Richmond County, New York...        1916         1916   \n",
       "3  Census Tract 277.06, Richmond County, New York...        1101         1101   \n",
       "4  Census Tract 9901, Richmond County, New York: ...           0            0   \n",
       "\n",
       "   DP02_0002E  DP02_0002PE  DP02_0003E  DP02_0003PE  DP02_0004E  DP02_0004PE  \\\n",
       "0        1580         75.3         780         37.2        1246         59.4   \n",
       "1        1185         70.3         610         36.2        1012         60.0   \n",
       "2        1602         83.6         581         30.3        1349         70.4   \n",
       "3         914         83.0         295         26.8         653         59.3   \n",
       "4           0 -666666666.0           0 -666666666.0           0 -666666666.0   \n",
       "\n",
       "   DP02_0005E  ...  DP05_0080PE  DP05_0081E  DP05_0081PE  DP05_0082E  \\\n",
       "0         660  ...          2.1           0          0.0           0   \n",
       "1         587  ...          3.8           0          0.0           0   \n",
       "2         472  ...         21.2           0          0.0           0   \n",
       "3         236  ...         19.3           0          0.0          23   \n",
       "4           0  ... -666666666.0           0 -666666666.0           0   \n",
       "\n",
       "   DP05_0082PE  DP05_0083E  DP05_0083PE  DP05_0084E  DP05_0084PE        GEOID  \n",
       "0          0.0          87          1.4           0          0.0  36085024401  \n",
       "1          0.0           0          0.0           0          0.0  36085024402  \n",
       "2          0.0         256          4.4           0          0.0  36085027705  \n",
       "3          0.7          72          2.0          64          1.8  36085027706  \n",
       "4 -666666666.0           0 -666666666.0           0 -666666666.0  36085990100  \n",
       "\n",
       "[5 rows x 1034 columns]"
      ]
     },
     "execution_count": 44,
     "metadata": {},
     "output_type": "execute_result"
    }
   ],
   "source": [
    "nyc_acs.head()"
   ]
  },
  {
   "cell_type": "code",
   "execution_count": 46,
   "metadata": {},
   "outputs": [
    {
     "data": {
      "text/plain": [
       "(2167, 1086)"
      ]
     },
     "execution_count": 46,
     "metadata": {},
     "output_type": "execute_result"
    }
   ],
   "source": [
    "nyc_expand = pd.merge(nyc_orig, nyc_acs, left_on='census_tract_GEOID', right_on='GEOID', how='inner')\n",
    "nyc_expand.shape"
   ]
  },
  {
   "cell_type": "code",
   "execution_count": 47,
   "metadata": {},
   "outputs": [],
   "source": [
    "nyc_expand.to_csv(data_dir + \"/processed/nyc_processed_expanded_ACS_2017_to_2019_20210225.csv\")"
   ]
  },
  {
   "cell_type": "code",
   "execution_count": null,
   "metadata": {},
   "outputs": [],
   "source": []
  }
 ],
 "metadata": {
  "kernelspec": {
   "display_name": "Python 3",
   "language": "python",
   "name": "python3"
  },
  "language_info": {
   "codemirror_mode": {
    "name": "ipython",
    "version": 3
   },
   "file_extension": ".py",
   "mimetype": "text/x-python",
   "name": "python",
   "nbconvert_exporter": "python",
   "pygments_lexer": "ipython3",
   "version": "3.8.6"
  }
 },
 "nbformat": 4,
 "nbformat_minor": 4
}
