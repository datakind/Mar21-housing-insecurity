{
 "cells": [
  {
   "cell_type": "markdown",
   "metadata": {},
   "source": [
    "### Tax Leins by Tax Code:  Over 50% are within the Tax Code 1 compared to Tax Codes 2 and 4"
   ]
  },
  {
   "cell_type": "code",
   "execution_count": 59,
   "metadata": {},
   "outputs": [],
   "source": [
    "import pandas as pd\n",
    "import numpy as np\n",
    "import seaborn as sns"
   ]
  },
  {
   "cell_type": "code",
   "execution_count": 60,
   "metadata": {},
   "outputs": [],
   "source": [
    "nyc_volunteer = pd.read_csv('../data/_volunteer_created_datasets/nyc_tax_lien_sale_list_geocoded_b4v410.csv')"
   ]
  },
  {
   "cell_type": "code",
   "execution_count": 12,
   "metadata": {},
   "outputs": [
    {
     "data": {
      "text/plain": [
       "Month                   0\n",
       "Cycle                   0\n",
       "Borough                 0\n",
       "Block                   0\n",
       "Lot                     0\n",
       "Tax Class Code          0\n",
       "Building Class          1\n",
       "Community Board       536\n",
       "Council District      423\n",
       "House Number         4240\n",
       "Street Name           205\n",
       "Zip Code             3221\n",
       "Water Debt Only         0\n",
       "Input-Address        4303\n",
       "Match-Indicator      4303\n",
       "Match-Type           9618\n",
       "Output-Address       9618\n",
       "Lon-Lat              9618\n",
       "Line-ID              9618\n",
       "Line-ID-Side         9618\n",
       "State-Code           9618\n",
       "County-Code          9618\n",
       "Census-Tract-Code    9618\n",
       "Census-Block-Code    9618\n",
       "dtype: int64"
      ]
     },
     "execution_count": 12,
     "metadata": {},
     "output_type": "execute_result"
    }
   ],
   "source": [
    "nyc_volunteer.isna().sum()"
   ]
  },
  {
   "cell_type": "markdown",
   "metadata": {},
   "source": [
    "### Below we see number of leins for Tax Codes 1, 2, and 4. "
   ]
  },
  {
   "cell_type": "code",
   "execution_count": 68,
   "metadata": {},
   "outputs": [
    {
     "name": "stdout",
     "output_type": "stream",
     "text": [
      "The number of Tax Leins for Tax Code area 1, 2 and 4 respectively are 68809 27264 26824\n"
     ]
    }
   ],
   "source": [
    "#n = nyc_volunteer.sum(nyc_volunteer[\"Tax Class Code\"] == 1)\n",
    "n1 = nyc_volunteer.loc[nyc_volunteer['Tax Class Code'] == 1, 'Tax Class Code'].count()\n",
    "n2 = nyc_volunteer.loc[nyc_volunteer['Tax Class Code'] == 2, 'Tax Class Code'].count()\n",
    "n4 = nyc_volunteer.loc[nyc_volunteer['Tax Class Code'] == 4, 'Tax Class Code'].count()\n",
    "print(\"The number of Tax Leins for Tax Code area 1, 2 and 4 respectively are\",n1, n2, n4)"
   ]
  },
  {
   "cell_type": "markdown",
   "metadata": {},
   "source": [
    "### Over 50% of Tax Leins fell in the Tax Code 1 bracket"
   ]
  },
  {
   "cell_type": "code",
   "execution_count": 51,
   "metadata": {},
   "outputs": [
    {
     "name": "stdout",
     "output_type": "stream",
     "text": [
      "The percent of Tax Liens within the Tax Class Code 1 was 55.99%\n"
     ]
    }
   ],
   "source": [
    "print(\"The percent of Tax Liens within the Tax Class Code 1 was\",\"{:.2%}\".format( (n1/ (n1+n2+n4))))"
   ]
  },
  {
   "cell_type": "markdown",
   "metadata": {},
   "source": [
    "### Started search for table correlations to associate acs data to tax leins and evictions\n",
    "\n",
    "#### Searching for a cross-reference to correlate Tax Class Code with Evictions but the Census tract #'s aren't matching the census_tract_GEOID, with more time I would search for source of census_tract_GEOID and see if the Tract-code was referenced to create."
   ]
  },
  {
   "cell_type": "code",
   "execution_count": 69,
   "metadata": {},
   "outputs": [
    {
     "data": {
      "text/html": [
       "<div>\n",
       "<style scoped>\n",
       "    .dataframe tbody tr th:only-of-type {\n",
       "        vertical-align: middle;\n",
       "    }\n",
       "\n",
       "    .dataframe tbody tr th {\n",
       "        vertical-align: top;\n",
       "    }\n",
       "\n",
       "    .dataframe thead th {\n",
       "        text-align: right;\n",
       "    }\n",
       "</style>\n",
       "<table border=\"1\" class=\"dataframe\">\n",
       "  <thead>\n",
       "    <tr style=\"text-align: right;\">\n",
       "      <th></th>\n",
       "      <th>census_tract_GEOID</th>\n",
       "      <th>total-households</th>\n",
       "      <th>total-renter-occupied-households</th>\n",
       "      <th>total-owner-occupied-households</th>\n",
       "      <th>total-owner-occupied-households-mortgage</th>\n",
       "      <th>median-gross-rent</th>\n",
       "      <th>median-household-income</th>\n",
       "      <th>median-property-value</th>\n",
       "      <th>median-monthly-housing-cost</th>\n",
       "      <th>pct-white</th>\n",
       "      <th>...</th>\n",
       "      <th>DP05_0080PE</th>\n",
       "      <th>DP05_0081E</th>\n",
       "      <th>DP05_0081PE</th>\n",
       "      <th>DP05_0082E</th>\n",
       "      <th>DP05_0082PE</th>\n",
       "      <th>DP05_0083E</th>\n",
       "      <th>DP05_0083PE</th>\n",
       "      <th>DP05_0084E</th>\n",
       "      <th>DP05_0084PE</th>\n",
       "      <th>GEOID</th>\n",
       "    </tr>\n",
       "  </thead>\n",
       "  <tbody>\n",
       "    <tr>\n",
       "      <th>0</th>\n",
       "      <td>36085013204</td>\n",
       "      <td>1790</td>\n",
       "      <td>422</td>\n",
       "      <td>1368</td>\n",
       "      <td>798</td>\n",
       "      <td>1411</td>\n",
       "      <td>84866</td>\n",
       "      <td>493400</td>\n",
       "      <td>2396</td>\n",
       "      <td>95.4</td>\n",
       "      <td>...</td>\n",
       "      <td>1.2</td>\n",
       "      <td>0</td>\n",
       "      <td>0.0</td>\n",
       "      <td>10</td>\n",
       "      <td>0.2</td>\n",
       "      <td>19</td>\n",
       "      <td>0.4</td>\n",
       "      <td>0</td>\n",
       "      <td>0.0</td>\n",
       "      <td>36085013204</td>\n",
       "    </tr>\n",
       "    <tr>\n",
       "      <th>1</th>\n",
       "      <td>36085013800</td>\n",
       "      <td>2369</td>\n",
       "      <td>441</td>\n",
       "      <td>1928</td>\n",
       "      <td>1030</td>\n",
       "      <td>1185</td>\n",
       "      <td>82361</td>\n",
       "      <td>561100</td>\n",
       "      <td>2404</td>\n",
       "      <td>98.8</td>\n",
       "      <td>...</td>\n",
       "      <td>5.1</td>\n",
       "      <td>0</td>\n",
       "      <td>0.0</td>\n",
       "      <td>0</td>\n",
       "      <td>0.0</td>\n",
       "      <td>56</td>\n",
       "      <td>0.9</td>\n",
       "      <td>0</td>\n",
       "      <td>0.0</td>\n",
       "      <td>36085013800</td>\n",
       "    </tr>\n",
       "    <tr>\n",
       "      <th>2</th>\n",
       "      <td>36085014700</td>\n",
       "      <td>1341</td>\n",
       "      <td>241</td>\n",
       "      <td>1100</td>\n",
       "      <td>707</td>\n",
       "      <td>1220</td>\n",
       "      <td>84310</td>\n",
       "      <td>463800</td>\n",
       "      <td>2406</td>\n",
       "      <td>94.9</td>\n",
       "      <td>...</td>\n",
       "      <td>2.5</td>\n",
       "      <td>0</td>\n",
       "      <td>0.0</td>\n",
       "      <td>0</td>\n",
       "      <td>0.0</td>\n",
       "      <td>0</td>\n",
       "      <td>0.0</td>\n",
       "      <td>0</td>\n",
       "      <td>0.0</td>\n",
       "      <td>36085014700</td>\n",
       "    </tr>\n",
       "    <tr>\n",
       "      <th>3</th>\n",
       "      <td>36085019700</td>\n",
       "      <td>712</td>\n",
       "      <td>99</td>\n",
       "      <td>613</td>\n",
       "      <td>366</td>\n",
       "      <td>1384</td>\n",
       "      <td>98167</td>\n",
       "      <td>449800</td>\n",
       "      <td>2297</td>\n",
       "      <td>95.4</td>\n",
       "      <td>...</td>\n",
       "      <td>6.4</td>\n",
       "      <td>0</td>\n",
       "      <td>0.0</td>\n",
       "      <td>16</td>\n",
       "      <td>0.9</td>\n",
       "      <td>42</td>\n",
       "      <td>2.3</td>\n",
       "      <td>0</td>\n",
       "      <td>0.0</td>\n",
       "      <td>36085019700</td>\n",
       "    </tr>\n",
       "    <tr>\n",
       "      <th>4</th>\n",
       "      <td>36085020804</td>\n",
       "      <td>1988</td>\n",
       "      <td>179</td>\n",
       "      <td>1809</td>\n",
       "      <td>1270</td>\n",
       "      <td>1175</td>\n",
       "      <td>95417</td>\n",
       "      <td>602200</td>\n",
       "      <td>2820</td>\n",
       "      <td>92.6</td>\n",
       "      <td>...</td>\n",
       "      <td>4.0</td>\n",
       "      <td>0</td>\n",
       "      <td>0.0</td>\n",
       "      <td>85</td>\n",
       "      <td>1.4</td>\n",
       "      <td>86</td>\n",
       "      <td>1.5</td>\n",
       "      <td>17</td>\n",
       "      <td>0.3</td>\n",
       "      <td>36085020804</td>\n",
       "    </tr>\n",
       "  </tbody>\n",
       "</table>\n",
       "<p>5 rows × 1086 columns</p>\n",
       "</div>"
      ],
      "text/plain": [
       "   census_tract_GEOID  total-households  total-renter-occupied-households  \\\n",
       "0         36085013204              1790                               422   \n",
       "1         36085013800              2369                               441   \n",
       "2         36085014700              1341                               241   \n",
       "3         36085019700               712                                99   \n",
       "4         36085020804              1988                               179   \n",
       "\n",
       "   total-owner-occupied-households  total-owner-occupied-households-mortgage  \\\n",
       "0                             1368                                       798   \n",
       "1                             1928                                      1030   \n",
       "2                             1100                                       707   \n",
       "3                              613                                       366   \n",
       "4                             1809                                      1270   \n",
       "\n",
       "   median-gross-rent  median-household-income  median-property-value  \\\n",
       "0               1411                    84866                 493400   \n",
       "1               1185                    82361                 561100   \n",
       "2               1220                    84310                 463800   \n",
       "3               1384                    98167                 449800   \n",
       "4               1175                    95417                 602200   \n",
       "\n",
       "   median-monthly-housing-cost  pct-white  ...  DP05_0080PE  DP05_0081E  \\\n",
       "0                         2396       95.4  ...          1.2           0   \n",
       "1                         2404       98.8  ...          5.1           0   \n",
       "2                         2406       94.9  ...          2.5           0   \n",
       "3                         2297       95.4  ...          6.4           0   \n",
       "4                         2820       92.6  ...          4.0           0   \n",
       "\n",
       "   DP05_0081PE  DP05_0082E  DP05_0082PE  DP05_0083E  DP05_0083PE  DP05_0084E  \\\n",
       "0          0.0          10          0.2          19          0.4           0   \n",
       "1          0.0           0          0.0          56          0.9           0   \n",
       "2          0.0           0          0.0           0          0.0           0   \n",
       "3          0.0          16          0.9          42          2.3           0   \n",
       "4          0.0          85          1.4          86          1.5          17   \n",
       "\n",
       "   DP05_0084PE        GEOID  \n",
       "0          0.0  36085013204  \n",
       "1          0.0  36085013800  \n",
       "2          0.0  36085014700  \n",
       "3          0.0  36085019700  \n",
       "4          0.3  36085020804  \n",
       "\n",
       "[5 rows x 1086 columns]"
      ]
     },
     "execution_count": 69,
     "metadata": {},
     "output_type": "execute_result"
    }
   ],
   "source": [
    "households = pd.read_csv('../data/processed/nyc_processed_2017_to_2019_20210225.csv')\n",
    "acs = pd.read_csv('../data/acs/nyc_acs5-2018_census.csv')\n",
    "\n",
    "nyc_acs_household = pd.merge(households, acs, left_on='census_tract_GEOID', right_on='GEOID', how='inner')\n",
    "nyc_acs_household.head()"
   ]
  },
  {
   "cell_type": "code",
   "execution_count": null,
   "metadata": {},
   "outputs": [],
   "source": []
  }
 ],
 "metadata": {
  "kernelspec": {
   "display_name": "Python 3",
   "language": "python",
   "name": "python3"
  },
  "language_info": {
   "codemirror_mode": {
    "name": "ipython",
    "version": 3
   },
   "file_extension": ".py",
   "mimetype": "text/x-python",
   "name": "python",
   "nbconvert_exporter": "python",
   "pygments_lexer": "ipython3",
   "version": "3.8.5"
  }
 },
 "nbformat": 4,
 "nbformat_minor": 4
}
