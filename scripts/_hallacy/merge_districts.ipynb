{
 "metadata": {
  "language_info": {
   "codemirror_mode": {
    "name": "ipython",
    "version": 3
   },
   "file_extension": ".py",
   "mimetype": "text/x-python",
   "name": "python",
   "nbconvert_exporter": "python",
   "pygments_lexer": "ipython3",
   "version": "3.7.3-final"
  },
  "orig_nbformat": 2,
  "kernelspec": {
   "name": "python3",
   "display_name": "Python 3.7.3 64-bit ('datadive': conda)",
   "metadata": {
    "interpreter": {
     "hash": "4491534e06aa544e0184784fe429c853727a8b11185c1d77657fc39e8e6585f4"
    }
   }
  }
 },
 "nbformat": 4,
 "nbformat_minor": 2,
 "cells": [
  {
   "cell_type": "code",
   "execution_count": 19,
   "metadata": {},
   "outputs": [],
   "source": [
    "import shapefile\n",
    "import geopandas"
   ]
  },
  {
   "cell_type": "code",
   "execution_count": 33,
   "metadata": {},
   "outputs": [],
   "source": [
    "dataset = \"zip://Users/hallacy/openai/Mar21-housing-insecurity/data/geo/florida_sdist_2021.zip\"\n"
   ]
  },
  {
   "cell_type": "code",
   "execution_count": 7,
   "metadata": {},
   "outputs": [],
   "source": [
    "sf = shapefile.Reader(dataset)"
   ]
  },
  {
   "cell_type": "code",
   "execution_count": 8,
   "metadata": {},
   "outputs": [
    {
     "output_type": "execute_result",
     "data": {
      "text/plain": [
       "<shapefile.Reader at 0x7fca10ad25f8>"
      ]
     },
     "metadata": {},
     "execution_count": 8
    }
   ],
   "source": [
    "sf"
   ]
  },
  {
   "cell_type": "code",
   "execution_count": 13,
   "metadata": {},
   "outputs": [
    {
     "output_type": "execute_result",
     "data": {
      "text/plain": [
       "5"
      ]
     },
     "metadata": {},
     "execution_count": 13
    }
   ],
   "source": [
    "sf.shapeType\n",
    "# 5 = POLYGON"
   ]
  },
  {
   "cell_type": "code",
   "execution_count": 17,
   "metadata": {},
   "outputs": [
    {
     "output_type": "execute_result",
     "data": {
      "text/plain": [
       "Shapes: [<shapefile.Shape object at 0x7fca109e8b70>, <shapefile.Shape object at 0x7fca112ce358>, <shapefile.Shape object at 0x7fca0e60bc50>, <shapefile.Shape object at 0x7fca11250eb8>, <shapefile.Shape object at 0x7fca10a4c9e8>, <shapefile.Shape object at 0x7fca109cd1d0>, <shapefile.Shape object at 0x7fca112705c0>, <shapefile.Shape object at 0x7fca11270588>, <shapefile.Shape object at 0x7fca11270e48>, <shapefile.Shape object at 0x7fca11270780>, <shapefile.Shape object at 0x7fca11270eb8>, <shapefile.Shape object at 0x7fca11270ba8>, <shapefile.Shape object at 0x7fca11270b38>, <shapefile.Shape object at 0x7fca11270ef0>, <shapefile.Shape object at 0x7fca11270860>, <shapefile.Shape object at 0x7fca11270ac8>, <shapefile.Shape object at 0x7fca11270240>, <shapefile.Shape object at 0x7fca112701d0>, <shapefile.Shape object at 0x7fca10065ba8>, <shapefile.Shape object at 0x7fca100654e0>, <shapefile.Shape object at 0x7fca10065128>, <shapefile.Shape object at 0x7fca10065518>, <shapefile.Shape object at 0x7fca112ede48>, <shapefile.Shape object at 0x7fca112edf28>, <shapefile.Shape object at 0x7fca109cfd68>, <shapefile.Shape object at 0x7fca109cf4a8>, <shapefile.Shape object at 0x7fca109cfa20>, <shapefile.Shape object at 0x7fca109e8da0>, <shapefile.Shape object at 0x7fca109e8cf8>, <shapefile.Shape object at 0x7fca109e8668>, <shapefile.Shape object at 0x7fca109e8a20>, <shapefile.Shape object at 0x7fca109e8198>, <shapefile.Shape object at 0x7fca109e82e8>, <shapefile.Shape object at 0x7fca109e88d0>, <shapefile.Shape object at 0x7fca109e8cc0>, <shapefile.Shape object at 0x7fca109e8400>, <shapefile.Shape object at 0x7fca109e80f0>, <shapefile.Shape object at 0x7fca109e8160>, <shapefile.Shape object at 0x7fca109e8748>, <shapefile.Shape object at 0x7fca109e8470>]"
      ]
     },
     "metadata": {},
     "execution_count": 17
    }
   ],
   "source": [
    "sf.shapes()"
   ]
  },
  {
   "cell_type": "code",
   "execution_count": 36,
   "metadata": {},
   "outputs": [],
   "source": [
    "dataset = \"zip:///Users/hallacy/openai/Mar21-housing-insecurity/data/geo/florida_sdist_2021.zip\"\n",
    "\n",
    "gdf = geopandas.read_file(dataset)\n"
   ]
  },
  {
   "cell_type": "code",
   "execution_count": 53,
   "metadata": {},
   "outputs": [
    {
     "output_type": "execute_result",
     "data": {
      "text/plain": [
       "           minx         miny         maxx         maxy\n",
       "0    52654.8630  696181.6081  157657.5189  781582.7176\n",
       "1   131027.5784  655712.6959  317877.5978  779520.9728\n",
       "2   257661.0233  614799.8696  530011.8428  745140.3312\n",
       "3   586660.8278  679761.8292  657791.7907  759691.6764\n",
       "4   450153.6963  545882.4139  633388.3776  732889.1033\n",
       "5   606689.7070  688641.9913  635374.7160  719066.3636\n",
       "6   622424.8911  558475.8130  698932.0992  696753.8483\n",
       "7   529453.4550  569562.1724  648651.8328  660668.3891\n",
       "8   647734.2432  514396.4151  694041.5650  555984.8349\n",
       "9   512097.5501  463744.3959  590243.7801  561611.3681\n",
       "10  628184.6797  496198.8586  660696.0309  533634.1666\n",
       "11  552825.0212  479307.7902  657878.3575  587770.8023\n",
       "12  654038.6837  495779.1916  705780.8854  516852.7967\n",
       "13  654514.6903  475712.5339  745096.6636  577599.2280\n",
       "14  628909.7124  407437.0421  707883.6340  506295.7542\n",
       "15  506947.8750  436980.6208  532680.9247  482500.6852\n",
       "16  706549.0635  398942.1888  768179.0606  489658.2246\n",
       "17  532178.9299  424357.3400  557373.4341  463851.7241\n",
       "18  524865.0477  404984.5418  570095.8043  450905.5642\n",
       "19  550240.0962  437165.4020  606593.6971  487667.4195\n",
       "20  515893.4696  357169.9544  592139.0078  441416.9056\n",
       "21  590702.4511  434803.8156  660278.1767  521379.8056\n",
       "22  527774.1750  308569.8418  592457.0415  376868.7747\n",
       "23  507200.3332  401153.6034  543400.0785  440784.2388\n",
       "24  708570.3802  301617.3403  793997.3783  400153.7562\n",
       "25  588013.8963  299263.5211  728708.4812  447820.5725\n",
       "26  565232.7727  264430.3369  632283.4366  310590.0675\n",
       "27  605041.1297  198369.9467  713059.1749  332086.3596\n",
       "28  709132.0793  250912.0289  797856.2589  308206.9603\n",
       "29  766519.6125  293999.1400  799725.4854  335817.7547\n",
       "30  777332.1042  274664.6212  799523.5777  301751.9371\n",
       "31  710761.7156  221429.7010  781086.7637  264397.0938\n",
       "32  769174.6846  239176.9829  787470.9783  258402.5626\n",
       "33  774806.3291  224798.5706  797130.7076  264268.2171\n",
       "34  755646.4624  210992.1747  783454.7314  230142.1324\n",
       "35  751685.3513  201703.5774  777095.6339  222519.1539\n",
       "36  763893.1748  175414.7280  796936.3054  206662.2776\n",
       "37  776285.4109  200196.8038  794719.8884  225286.5569\n",
       "38  502455.8707   45682.4647  790883.5643  223858.0627\n",
       "39  752648.7009  180463.5046  770510.4607  198443.5642"
      ],
      "text/html": "<div>\n<style scoped>\n    .dataframe tbody tr th:only-of-type {\n        vertical-align: middle;\n    }\n\n    .dataframe tbody tr th {\n        vertical-align: top;\n    }\n\n    .dataframe thead th {\n        text-align: right;\n    }\n</style>\n<table border=\"1\" class=\"dataframe\">\n  <thead>\n    <tr style=\"text-align: right;\">\n      <th></th>\n      <th>minx</th>\n      <th>miny</th>\n      <th>maxx</th>\n      <th>maxy</th>\n    </tr>\n  </thead>\n  <tbody>\n    <tr>\n      <th>0</th>\n      <td>52654.8630</td>\n      <td>696181.6081</td>\n      <td>157657.5189</td>\n      <td>781582.7176</td>\n    </tr>\n    <tr>\n      <th>1</th>\n      <td>131027.5784</td>\n      <td>655712.6959</td>\n      <td>317877.5978</td>\n      <td>779520.9728</td>\n    </tr>\n    <tr>\n      <th>2</th>\n      <td>257661.0233</td>\n      <td>614799.8696</td>\n      <td>530011.8428</td>\n      <td>745140.3312</td>\n    </tr>\n    <tr>\n      <th>3</th>\n      <td>586660.8278</td>\n      <td>679761.8292</td>\n      <td>657791.7907</td>\n      <td>759691.6764</td>\n    </tr>\n    <tr>\n      <th>4</th>\n      <td>450153.6963</td>\n      <td>545882.4139</td>\n      <td>633388.3776</td>\n      <td>732889.1033</td>\n    </tr>\n    <tr>\n      <th>5</th>\n      <td>606689.7070</td>\n      <td>688641.9913</td>\n      <td>635374.7160</td>\n      <td>719066.3636</td>\n    </tr>\n    <tr>\n      <th>6</th>\n      <td>622424.8911</td>\n      <td>558475.8130</td>\n      <td>698932.0992</td>\n      <td>696753.8483</td>\n    </tr>\n    <tr>\n      <th>7</th>\n      <td>529453.4550</td>\n      <td>569562.1724</td>\n      <td>648651.8328</td>\n      <td>660668.3891</td>\n    </tr>\n    <tr>\n      <th>8</th>\n      <td>647734.2432</td>\n      <td>514396.4151</td>\n      <td>694041.5650</td>\n      <td>555984.8349</td>\n    </tr>\n    <tr>\n      <th>9</th>\n      <td>512097.5501</td>\n      <td>463744.3959</td>\n      <td>590243.7801</td>\n      <td>561611.3681</td>\n    </tr>\n    <tr>\n      <th>10</th>\n      <td>628184.6797</td>\n      <td>496198.8586</td>\n      <td>660696.0309</td>\n      <td>533634.1666</td>\n    </tr>\n    <tr>\n      <th>11</th>\n      <td>552825.0212</td>\n      <td>479307.7902</td>\n      <td>657878.3575</td>\n      <td>587770.8023</td>\n    </tr>\n    <tr>\n      <th>12</th>\n      <td>654038.6837</td>\n      <td>495779.1916</td>\n      <td>705780.8854</td>\n      <td>516852.7967</td>\n    </tr>\n    <tr>\n      <th>13</th>\n      <td>654514.6903</td>\n      <td>475712.5339</td>\n      <td>745096.6636</td>\n      <td>577599.2280</td>\n    </tr>\n    <tr>\n      <th>14</th>\n      <td>628909.7124</td>\n      <td>407437.0421</td>\n      <td>707883.6340</td>\n      <td>506295.7542</td>\n    </tr>\n    <tr>\n      <th>15</th>\n      <td>506947.8750</td>\n      <td>436980.6208</td>\n      <td>532680.9247</td>\n      <td>482500.6852</td>\n    </tr>\n    <tr>\n      <th>16</th>\n      <td>706549.0635</td>\n      <td>398942.1888</td>\n      <td>768179.0606</td>\n      <td>489658.2246</td>\n    </tr>\n    <tr>\n      <th>17</th>\n      <td>532178.9299</td>\n      <td>424357.3400</td>\n      <td>557373.4341</td>\n      <td>463851.7241</td>\n    </tr>\n    <tr>\n      <th>18</th>\n      <td>524865.0477</td>\n      <td>404984.5418</td>\n      <td>570095.8043</td>\n      <td>450905.5642</td>\n    </tr>\n    <tr>\n      <th>19</th>\n      <td>550240.0962</td>\n      <td>437165.4020</td>\n      <td>606593.6971</td>\n      <td>487667.4195</td>\n    </tr>\n    <tr>\n      <th>20</th>\n      <td>515893.4696</td>\n      <td>357169.9544</td>\n      <td>592139.0078</td>\n      <td>441416.9056</td>\n    </tr>\n    <tr>\n      <th>21</th>\n      <td>590702.4511</td>\n      <td>434803.8156</td>\n      <td>660278.1767</td>\n      <td>521379.8056</td>\n    </tr>\n    <tr>\n      <th>22</th>\n      <td>527774.1750</td>\n      <td>308569.8418</td>\n      <td>592457.0415</td>\n      <td>376868.7747</td>\n    </tr>\n    <tr>\n      <th>23</th>\n      <td>507200.3332</td>\n      <td>401153.6034</td>\n      <td>543400.0785</td>\n      <td>440784.2388</td>\n    </tr>\n    <tr>\n      <th>24</th>\n      <td>708570.3802</td>\n      <td>301617.3403</td>\n      <td>793997.3783</td>\n      <td>400153.7562</td>\n    </tr>\n    <tr>\n      <th>25</th>\n      <td>588013.8963</td>\n      <td>299263.5211</td>\n      <td>728708.4812</td>\n      <td>447820.5725</td>\n    </tr>\n    <tr>\n      <th>26</th>\n      <td>565232.7727</td>\n      <td>264430.3369</td>\n      <td>632283.4366</td>\n      <td>310590.0675</td>\n    </tr>\n    <tr>\n      <th>27</th>\n      <td>605041.1297</td>\n      <td>198369.9467</td>\n      <td>713059.1749</td>\n      <td>332086.3596</td>\n    </tr>\n    <tr>\n      <th>28</th>\n      <td>709132.0793</td>\n      <td>250912.0289</td>\n      <td>797856.2589</td>\n      <td>308206.9603</td>\n    </tr>\n    <tr>\n      <th>29</th>\n      <td>766519.6125</td>\n      <td>293999.1400</td>\n      <td>799725.4854</td>\n      <td>335817.7547</td>\n    </tr>\n    <tr>\n      <th>30</th>\n      <td>777332.1042</td>\n      <td>274664.6212</td>\n      <td>799523.5777</td>\n      <td>301751.9371</td>\n    </tr>\n    <tr>\n      <th>31</th>\n      <td>710761.7156</td>\n      <td>221429.7010</td>\n      <td>781086.7637</td>\n      <td>264397.0938</td>\n    </tr>\n    <tr>\n      <th>32</th>\n      <td>769174.6846</td>\n      <td>239176.9829</td>\n      <td>787470.9783</td>\n      <td>258402.5626</td>\n    </tr>\n    <tr>\n      <th>33</th>\n      <td>774806.3291</td>\n      <td>224798.5706</td>\n      <td>797130.7076</td>\n      <td>264268.2171</td>\n    </tr>\n    <tr>\n      <th>34</th>\n      <td>755646.4624</td>\n      <td>210992.1747</td>\n      <td>783454.7314</td>\n      <td>230142.1324</td>\n    </tr>\n    <tr>\n      <th>35</th>\n      <td>751685.3513</td>\n      <td>201703.5774</td>\n      <td>777095.6339</td>\n      <td>222519.1539</td>\n    </tr>\n    <tr>\n      <th>36</th>\n      <td>763893.1748</td>\n      <td>175414.7280</td>\n      <td>796936.3054</td>\n      <td>206662.2776</td>\n    </tr>\n    <tr>\n      <th>37</th>\n      <td>776285.4109</td>\n      <td>200196.8038</td>\n      <td>794719.8884</td>\n      <td>225286.5569</td>\n    </tr>\n    <tr>\n      <th>38</th>\n      <td>502455.8707</td>\n      <td>45682.4647</td>\n      <td>790883.5643</td>\n      <td>223858.0627</td>\n    </tr>\n    <tr>\n      <th>39</th>\n      <td>752648.7009</td>\n      <td>180463.5046</td>\n      <td>770510.4607</td>\n      <td>198443.5642</td>\n    </tr>\n  </tbody>\n</table>\n</div>"
     },
     "metadata": {},
     "execution_count": 53
    }
   ],
   "source": [
    "gdf.bounds"
   ]
  },
  {
   "cell_type": "code",
   "execution_count": 54,
   "metadata": {},
   "outputs": [],
   "source": [
    "dataset = \"/Users/hallacy/openai/Mar21-housing-insecurity/data/geo/hillsborough_fl_2010_tracts_formatted.geojson\"\n",
    "\n",
    "gdf = geopandas.read_file(dataset)\n"
   ]
  },
  {
   "cell_type": "code",
   "execution_count": 56,
   "metadata": {},
   "outputs": [
    {
     "output_type": "execute_result",
     "data": {
      "text/plain": [
       "    census_tract_GEOID                                           geometry\n",
       "0          12057006900  POLYGON ((-82.50651 27.87912, -82.50648 27.877...\n",
       "1          12057010214  POLYGON ((-82.29064 28.12917, -82.28969 28.129...\n",
       "2          12057011518  POLYGON ((-82.64091 28.11842, -82.64089 28.116...\n",
       "3          12057013920  POLYGON ((-82.26150 27.76278, -82.26116 27.762...\n",
       "4          12057010305  POLYGON ((-82.35768 27.99625, -82.35773 27.995...\n",
       "..                 ...                                                ...\n",
       "316        12057013908  POLYGON ((-82.33112 27.82161, -82.33069 27.821...\n",
       "317        12057001100  POLYGON ((-82.45131 28.01158, -82.45130 28.010...\n",
       "318        12057001200  POLYGON ((-82.46488 28.01201, -82.46490 28.010...\n",
       "319        12057011607  POLYGON ((-82.62868 28.03899, -82.62867 28.038...\n",
       "320        12057004600  POLYGON ((-82.56611 27.93599, -82.56608 27.935...\n",
       "\n",
       "[321 rows x 2 columns]"
      ],
      "text/html": "<div>\n<style scoped>\n    .dataframe tbody tr th:only-of-type {\n        vertical-align: middle;\n    }\n\n    .dataframe tbody tr th {\n        vertical-align: top;\n    }\n\n    .dataframe thead th {\n        text-align: right;\n    }\n</style>\n<table border=\"1\" class=\"dataframe\">\n  <thead>\n    <tr style=\"text-align: right;\">\n      <th></th>\n      <th>census_tract_GEOID</th>\n      <th>geometry</th>\n    </tr>\n  </thead>\n  <tbody>\n    <tr>\n      <th>0</th>\n      <td>12057006900</td>\n      <td>POLYGON ((-82.50651 27.87912, -82.50648 27.877...</td>\n    </tr>\n    <tr>\n      <th>1</th>\n      <td>12057010214</td>\n      <td>POLYGON ((-82.29064 28.12917, -82.28969 28.129...</td>\n    </tr>\n    <tr>\n      <th>2</th>\n      <td>12057011518</td>\n      <td>POLYGON ((-82.64091 28.11842, -82.64089 28.116...</td>\n    </tr>\n    <tr>\n      <th>3</th>\n      <td>12057013920</td>\n      <td>POLYGON ((-82.26150 27.76278, -82.26116 27.762...</td>\n    </tr>\n    <tr>\n      <th>4</th>\n      <td>12057010305</td>\n      <td>POLYGON ((-82.35768 27.99625, -82.35773 27.995...</td>\n    </tr>\n    <tr>\n      <th>...</th>\n      <td>...</td>\n      <td>...</td>\n    </tr>\n    <tr>\n      <th>316</th>\n      <td>12057013908</td>\n      <td>POLYGON ((-82.33112 27.82161, -82.33069 27.821...</td>\n    </tr>\n    <tr>\n      <th>317</th>\n      <td>12057001100</td>\n      <td>POLYGON ((-82.45131 28.01158, -82.45130 28.010...</td>\n    </tr>\n    <tr>\n      <th>318</th>\n      <td>12057001200</td>\n      <td>POLYGON ((-82.46488 28.01201, -82.46490 28.010...</td>\n    </tr>\n    <tr>\n      <th>319</th>\n      <td>12057011607</td>\n      <td>POLYGON ((-82.62868 28.03899, -82.62867 28.038...</td>\n    </tr>\n    <tr>\n      <th>320</th>\n      <td>12057004600</td>\n      <td>POLYGON ((-82.56611 27.93599, -82.56608 27.935...</td>\n    </tr>\n  </tbody>\n</table>\n<p>321 rows × 2 columns</p>\n</div>"
     },
     "metadata": {},
     "execution_count": 56
    }
   ],
   "source": [
    "gdf"
   ]
  },
  {
   "cell_type": "code",
   "execution_count": 57,
   "metadata": {},
   "outputs": [],
   "source": [
    "dataset = \"zip:///Users/hallacy/openai/Mar21-housing-insecurity/data/geo/florida_usdist_2021.zip\"\n",
    "\n",
    "gdf = geopandas.read_file(dataset)"
   ]
  },
  {
   "cell_type": "code",
   "execution_count": 62,
   "metadata": {},
   "outputs": [
    {
     "output_type": "execute_result",
     "data": {
      "text/plain": [
       "   DISTRICT                       NAME       PARTY STATE STFIPS SESSION_  \\\n",
       "0        01                GAETZ, MATT  REPUBLICAN    FL     12      117   \n",
       "1        02                 DUNN, NEAL  REPUBLICAN    FL     12      117   \n",
       "2        03               CAMMACK, KAT  REPUBLICAN    FL     12      117   \n",
       "3        04           RUTHERFORD, JOHN  REPUBLICAN    FL     12      117   \n",
       "4        05                 LAWSON, AL  DEMOCRATIC    FL     12      117   \n",
       "5        06             WALTZ, MICHAEL  REPUBLICAN    FL     12      117   \n",
       "6        07          MURPHY, STEPHANIE  DEMOCRATIC    FL     12      117   \n",
       "7        08                POSEY, BILL  REPUBLICAN    FL     12      117   \n",
       "8        09               SOTO, DARREN  DEMOCRATIC    FL     12      117   \n",
       "9        10               DEMINGS, VAL  DEMOCRATIC    FL     12      117   \n",
       "10       11            WEBSTER, DANIEL  REPUBLICAN    FL     12      117   \n",
       "11       12          BILIRAKIS, GUS M.  REPUBLICAN    FL     12      117   \n",
       "12       13             CRIST, CHARLIE  DEMOCRATIC    FL     12      117   \n",
       "13       14              CASTOR, KATHY  DEMOCRATIC    FL     12      117   \n",
       "14       15            FRANKLIN, SCOTT  REPUBLICAN    FL     12      117   \n",
       "15       16             BUCHANAN, VERN  REPUBLICAN    FL     12      117   \n",
       "16       17               STEUBE, GREG  REPUBLICAN    FL     12      117   \n",
       "17       18                MAST, BRIAN  REPUBLICAN    FL     12      117   \n",
       "18       19             DONALDS, BYRON  REPUBLICAN    FL     12      117   \n",
       "19       20         HASTINGS, ALCEE L.  DEMOCRATIC    FL     12      117   \n",
       "20       21              FRANKEL, LOIS  DEMOCRATIC    FL     12      117   \n",
       "21       22           DEUTCH, THEODORE  DEMOCRATIC    FL     12      117   \n",
       "22       23  WASSERMAN SCHULTZ, DEBBIE  DEMOCRATIC    FL     12      117   \n",
       "23       24          WILSON, FREDERICA  DEMOCRATIC    FL     12      117   \n",
       "24       25         DIAZ-BALART, MARIO  REPUBLICAN    FL     12      117   \n",
       "25       26            GIMENEZ, CARLOS  REPUBLICAN    FL     12      117   \n",
       "26       27             SALAZAR, MARIA  REPUBLICAN    FL     12      117   \n",
       "\n",
       "          DESCRIPT  FGDLAQDATE  AUTOID    SHAPE_AREA     SHAPE_LEN  \\\n",
       "0   US DISTRICT 01  2021-01-03       1  1.232522e+10  6.396226e+05   \n",
       "1   US DISTRICT 02  2021-01-03       2  3.333694e+10  1.546745e+06   \n",
       "2   US DISTRICT 03  2021-01-03       3  9.955033e+09  4.877915e+05   \n",
       "3   US DISTRICT 04  2021-01-03       4  5.082794e+09  6.108975e+05   \n",
       "4   US DISTRICT 05  2021-01-03       5  1.012848e+10  1.144225e+06   \n",
       "5   US DISTRICT 06  2021-01-03       6  6.946004e+09  5.091615e+05   \n",
       "6   US DISTRICT 07  2021-01-03       7  1.128230e+09  1.953753e+05   \n",
       "7   US DISTRICT 08  2021-01-03       8  6.246933e+09  4.359423e+05   \n",
       "8   US DISTRICT 09  2021-01-03       9  6.786292e+09  4.321394e+05   \n",
       "9   US DISTRICT 10  2021-01-03      10  1.336505e+09  1.852127e+05   \n",
       "10  US DISTRICT 11  2021-01-03      11  7.479502e+09  5.350020e+05   \n",
       "11  US DISTRICT 12  2021-01-03      12  2.769358e+09  2.818473e+05   \n",
       "12  US DISTRICT 13  2021-01-03      13  1.110449e+09  1.490813e+05   \n",
       "13  US DISTRICT 14  2021-01-03      14  9.486088e+08  1.631150e+05   \n",
       "14  US DISTRICT 15  2021-01-03      15  3.031469e+09  3.861060e+05   \n",
       "15  US DISTRICT 16  2021-01-03      16  4.308566e+09  3.217730e+05   \n",
       "16  US DISTRICT 17  2021-01-03      17  1.635540e+10  6.698936e+05   \n",
       "17  US DISTRICT 18  2021-01-03      18  4.893362e+09  3.678082e+05   \n",
       "18  US DISTRICT 19  2021-01-03      19  3.540517e+09  3.829520e+05   \n",
       "19  US DISTRICT 20  2021-01-03      20  6.230959e+09  6.224759e+05   \n",
       "20  US DISTRICT 21  2021-01-03      21  9.129101e+08  1.954611e+05   \n",
       "21  US DISTRICT 22  2021-01-03      22  6.781602e+08  1.910382e+05   \n",
       "22  US DISTRICT 23  2021-01-03      23  6.710726e+08  1.811324e+05   \n",
       "23  US DISTRICT 24  2021-01-03      24  2.982343e+08  1.114995e+05   \n",
       "24  US DISTRICT 25  2021-01-03      25  9.524863e+09  5.808502e+05   \n",
       "25  US DISTRICT 26  2021-01-03      26  1.339368e+10  8.763250e+05   \n",
       "26  US DISTRICT 27  2021-01-03      27  8.907088e+08  1.549961e+05   \n",
       "\n",
       "                                             geometry  \n",
       "0   POLYGON ((-87.57077 30.99755, -87.57076 30.997...  \n",
       "1   POLYGON ((-85.19224 31.00089, -85.18945 31.000...  \n",
       "2   POLYGON ((-81.72540 30.19103, -81.72532 30.191...  \n",
       "3   POLYGON ((-81.89980 30.82840, -81.89957 30.828...  \n",
       "4   POLYGON ((-84.85690 30.71124, -84.85687 30.711...  \n",
       "5   POLYGON ((-81.34662 29.82231, -81.34659 29.822...  \n",
       "6   POLYGON ((-81.36432 28.87558, -81.36401 28.875...  \n",
       "7   POLYGON ((-80.66346 28.79059, -80.63557 28.750...  \n",
       "8   POLYGON ((-81.14415 28.55239, -81.14389 28.552...  \n",
       "9   POLYGON ((-81.43109 28.78547, -81.42315 28.785...  \n",
       "10  POLYGON ((-81.91519 29.19690, -81.91502 29.196...  \n",
       "11  POLYGON ((-82.05469 28.47840, -82.05470 28.474...  \n",
       "12  POLYGON ((-82.82515 28.01868, -82.82475 28.014...  \n",
       "13  POLYGON ((-82.26075 28.17080, -82.26276 28.168...  \n",
       "14  POLYGON ((-81.80543 28.68145, -81.80539 28.676...  \n",
       "15  POLYGON ((-82.05489 27.90593, -82.05510 27.894...  \n",
       "16  POLYGON ((-81.82051 27.98090, -81.81947 27.978...  \n",
       "17  POLYGON ((-80.26354 27.55678, -80.26114 27.549...  \n",
       "18  POLYGON ((-82.26747 26.78949, -82.26744 26.789...  \n",
       "19  POLYGON ((-80.58024 26.94232, -80.58011 26.928...  \n",
       "20  POLYGON ((-79.97547 26.78081, -79.97547 26.779...  \n",
       "21  POLYGON ((-80.00689 26.42646, -80.01100 26.391...  \n",
       "22  POLYGON ((-80.29888 26.18692, -80.29885 26.186...  \n",
       "23  POLYGON ((-80.16795 26.02489, -80.16793 26.024...  \n",
       "24  POLYGON ((-80.88617 26.76714, -80.88617 26.767...  \n",
       "25  MULTIPOLYGON (((-80.87310 25.80513, -80.87316 ...  \n",
       "26  POLYGON ((-80.11035 25.87249, -80.06098 25.870...  "
      ],
      "text/html": "<div>\n<style scoped>\n    .dataframe tbody tr th:only-of-type {\n        vertical-align: middle;\n    }\n\n    .dataframe tbody tr th {\n        vertical-align: top;\n    }\n\n    .dataframe thead th {\n        text-align: right;\n    }\n</style>\n<table border=\"1\" class=\"dataframe\">\n  <thead>\n    <tr style=\"text-align: right;\">\n      <th></th>\n      <th>DISTRICT</th>\n      <th>NAME</th>\n      <th>PARTY</th>\n      <th>STATE</th>\n      <th>STFIPS</th>\n      <th>SESSION_</th>\n      <th>DESCRIPT</th>\n      <th>FGDLAQDATE</th>\n      <th>AUTOID</th>\n      <th>SHAPE_AREA</th>\n      <th>SHAPE_LEN</th>\n      <th>geometry</th>\n    </tr>\n  </thead>\n  <tbody>\n    <tr>\n      <th>0</th>\n      <td>01</td>\n      <td>GAETZ, MATT</td>\n      <td>REPUBLICAN</td>\n      <td>FL</td>\n      <td>12</td>\n      <td>117</td>\n      <td>US DISTRICT 01</td>\n      <td>2021-01-03</td>\n      <td>1</td>\n      <td>1.232522e+10</td>\n      <td>6.396226e+05</td>\n      <td>POLYGON ((-87.57077 30.99755, -87.57076 30.997...</td>\n    </tr>\n    <tr>\n      <th>1</th>\n      <td>02</td>\n      <td>DUNN, NEAL</td>\n      <td>REPUBLICAN</td>\n      <td>FL</td>\n      <td>12</td>\n      <td>117</td>\n      <td>US DISTRICT 02</td>\n      <td>2021-01-03</td>\n      <td>2</td>\n      <td>3.333694e+10</td>\n      <td>1.546745e+06</td>\n      <td>POLYGON ((-85.19224 31.00089, -85.18945 31.000...</td>\n    </tr>\n    <tr>\n      <th>2</th>\n      <td>03</td>\n      <td>CAMMACK, KAT</td>\n      <td>REPUBLICAN</td>\n      <td>FL</td>\n      <td>12</td>\n      <td>117</td>\n      <td>US DISTRICT 03</td>\n      <td>2021-01-03</td>\n      <td>3</td>\n      <td>9.955033e+09</td>\n      <td>4.877915e+05</td>\n      <td>POLYGON ((-81.72540 30.19103, -81.72532 30.191...</td>\n    </tr>\n    <tr>\n      <th>3</th>\n      <td>04</td>\n      <td>RUTHERFORD, JOHN</td>\n      <td>REPUBLICAN</td>\n      <td>FL</td>\n      <td>12</td>\n      <td>117</td>\n      <td>US DISTRICT 04</td>\n      <td>2021-01-03</td>\n      <td>4</td>\n      <td>5.082794e+09</td>\n      <td>6.108975e+05</td>\n      <td>POLYGON ((-81.89980 30.82840, -81.89957 30.828...</td>\n    </tr>\n    <tr>\n      <th>4</th>\n      <td>05</td>\n      <td>LAWSON, AL</td>\n      <td>DEMOCRATIC</td>\n      <td>FL</td>\n      <td>12</td>\n      <td>117</td>\n      <td>US DISTRICT 05</td>\n      <td>2021-01-03</td>\n      <td>5</td>\n      <td>1.012848e+10</td>\n      <td>1.144225e+06</td>\n      <td>POLYGON ((-84.85690 30.71124, -84.85687 30.711...</td>\n    </tr>\n    <tr>\n      <th>5</th>\n      <td>06</td>\n      <td>WALTZ, MICHAEL</td>\n      <td>REPUBLICAN</td>\n      <td>FL</td>\n      <td>12</td>\n      <td>117</td>\n      <td>US DISTRICT 06</td>\n      <td>2021-01-03</td>\n      <td>6</td>\n      <td>6.946004e+09</td>\n      <td>5.091615e+05</td>\n      <td>POLYGON ((-81.34662 29.82231, -81.34659 29.822...</td>\n    </tr>\n    <tr>\n      <th>6</th>\n      <td>07</td>\n      <td>MURPHY, STEPHANIE</td>\n      <td>DEMOCRATIC</td>\n      <td>FL</td>\n      <td>12</td>\n      <td>117</td>\n      <td>US DISTRICT 07</td>\n      <td>2021-01-03</td>\n      <td>7</td>\n      <td>1.128230e+09</td>\n      <td>1.953753e+05</td>\n      <td>POLYGON ((-81.36432 28.87558, -81.36401 28.875...</td>\n    </tr>\n    <tr>\n      <th>7</th>\n      <td>08</td>\n      <td>POSEY, BILL</td>\n      <td>REPUBLICAN</td>\n      <td>FL</td>\n      <td>12</td>\n      <td>117</td>\n      <td>US DISTRICT 08</td>\n      <td>2021-01-03</td>\n      <td>8</td>\n      <td>6.246933e+09</td>\n      <td>4.359423e+05</td>\n      <td>POLYGON ((-80.66346 28.79059, -80.63557 28.750...</td>\n    </tr>\n    <tr>\n      <th>8</th>\n      <td>09</td>\n      <td>SOTO, DARREN</td>\n      <td>DEMOCRATIC</td>\n      <td>FL</td>\n      <td>12</td>\n      <td>117</td>\n      <td>US DISTRICT 09</td>\n      <td>2021-01-03</td>\n      <td>9</td>\n      <td>6.786292e+09</td>\n      <td>4.321394e+05</td>\n      <td>POLYGON ((-81.14415 28.55239, -81.14389 28.552...</td>\n    </tr>\n    <tr>\n      <th>9</th>\n      <td>10</td>\n      <td>DEMINGS, VAL</td>\n      <td>DEMOCRATIC</td>\n      <td>FL</td>\n      <td>12</td>\n      <td>117</td>\n      <td>US DISTRICT 10</td>\n      <td>2021-01-03</td>\n      <td>10</td>\n      <td>1.336505e+09</td>\n      <td>1.852127e+05</td>\n      <td>POLYGON ((-81.43109 28.78547, -81.42315 28.785...</td>\n    </tr>\n    <tr>\n      <th>10</th>\n      <td>11</td>\n      <td>WEBSTER, DANIEL</td>\n      <td>REPUBLICAN</td>\n      <td>FL</td>\n      <td>12</td>\n      <td>117</td>\n      <td>US DISTRICT 11</td>\n      <td>2021-01-03</td>\n      <td>11</td>\n      <td>7.479502e+09</td>\n      <td>5.350020e+05</td>\n      <td>POLYGON ((-81.91519 29.19690, -81.91502 29.196...</td>\n    </tr>\n    <tr>\n      <th>11</th>\n      <td>12</td>\n      <td>BILIRAKIS, GUS M.</td>\n      <td>REPUBLICAN</td>\n      <td>FL</td>\n      <td>12</td>\n      <td>117</td>\n      <td>US DISTRICT 12</td>\n      <td>2021-01-03</td>\n      <td>12</td>\n      <td>2.769358e+09</td>\n      <td>2.818473e+05</td>\n      <td>POLYGON ((-82.05469 28.47840, -82.05470 28.474...</td>\n    </tr>\n    <tr>\n      <th>12</th>\n      <td>13</td>\n      <td>CRIST, CHARLIE</td>\n      <td>DEMOCRATIC</td>\n      <td>FL</td>\n      <td>12</td>\n      <td>117</td>\n      <td>US DISTRICT 13</td>\n      <td>2021-01-03</td>\n      <td>13</td>\n      <td>1.110449e+09</td>\n      <td>1.490813e+05</td>\n      <td>POLYGON ((-82.82515 28.01868, -82.82475 28.014...</td>\n    </tr>\n    <tr>\n      <th>13</th>\n      <td>14</td>\n      <td>CASTOR, KATHY</td>\n      <td>DEMOCRATIC</td>\n      <td>FL</td>\n      <td>12</td>\n      <td>117</td>\n      <td>US DISTRICT 14</td>\n      <td>2021-01-03</td>\n      <td>14</td>\n      <td>9.486088e+08</td>\n      <td>1.631150e+05</td>\n      <td>POLYGON ((-82.26075 28.17080, -82.26276 28.168...</td>\n    </tr>\n    <tr>\n      <th>14</th>\n      <td>15</td>\n      <td>FRANKLIN, SCOTT</td>\n      <td>REPUBLICAN</td>\n      <td>FL</td>\n      <td>12</td>\n      <td>117</td>\n      <td>US DISTRICT 15</td>\n      <td>2021-01-03</td>\n      <td>15</td>\n      <td>3.031469e+09</td>\n      <td>3.861060e+05</td>\n      <td>POLYGON ((-81.80543 28.68145, -81.80539 28.676...</td>\n    </tr>\n    <tr>\n      <th>15</th>\n      <td>16</td>\n      <td>BUCHANAN, VERN</td>\n      <td>REPUBLICAN</td>\n      <td>FL</td>\n      <td>12</td>\n      <td>117</td>\n      <td>US DISTRICT 16</td>\n      <td>2021-01-03</td>\n      <td>16</td>\n      <td>4.308566e+09</td>\n      <td>3.217730e+05</td>\n      <td>POLYGON ((-82.05489 27.90593, -82.05510 27.894...</td>\n    </tr>\n    <tr>\n      <th>16</th>\n      <td>17</td>\n      <td>STEUBE, GREG</td>\n      <td>REPUBLICAN</td>\n      <td>FL</td>\n      <td>12</td>\n      <td>117</td>\n      <td>US DISTRICT 17</td>\n      <td>2021-01-03</td>\n      <td>17</td>\n      <td>1.635540e+10</td>\n      <td>6.698936e+05</td>\n      <td>POLYGON ((-81.82051 27.98090, -81.81947 27.978...</td>\n    </tr>\n    <tr>\n      <th>17</th>\n      <td>18</td>\n      <td>MAST, BRIAN</td>\n      <td>REPUBLICAN</td>\n      <td>FL</td>\n      <td>12</td>\n      <td>117</td>\n      <td>US DISTRICT 18</td>\n      <td>2021-01-03</td>\n      <td>18</td>\n      <td>4.893362e+09</td>\n      <td>3.678082e+05</td>\n      <td>POLYGON ((-80.26354 27.55678, -80.26114 27.549...</td>\n    </tr>\n    <tr>\n      <th>18</th>\n      <td>19</td>\n      <td>DONALDS, BYRON</td>\n      <td>REPUBLICAN</td>\n      <td>FL</td>\n      <td>12</td>\n      <td>117</td>\n      <td>US DISTRICT 19</td>\n      <td>2021-01-03</td>\n      <td>19</td>\n      <td>3.540517e+09</td>\n      <td>3.829520e+05</td>\n      <td>POLYGON ((-82.26747 26.78949, -82.26744 26.789...</td>\n    </tr>\n    <tr>\n      <th>19</th>\n      <td>20</td>\n      <td>HASTINGS, ALCEE L.</td>\n      <td>DEMOCRATIC</td>\n      <td>FL</td>\n      <td>12</td>\n      <td>117</td>\n      <td>US DISTRICT 20</td>\n      <td>2021-01-03</td>\n      <td>20</td>\n      <td>6.230959e+09</td>\n      <td>6.224759e+05</td>\n      <td>POLYGON ((-80.58024 26.94232, -80.58011 26.928...</td>\n    </tr>\n    <tr>\n      <th>20</th>\n      <td>21</td>\n      <td>FRANKEL, LOIS</td>\n      <td>DEMOCRATIC</td>\n      <td>FL</td>\n      <td>12</td>\n      <td>117</td>\n      <td>US DISTRICT 21</td>\n      <td>2021-01-03</td>\n      <td>21</td>\n      <td>9.129101e+08</td>\n      <td>1.954611e+05</td>\n      <td>POLYGON ((-79.97547 26.78081, -79.97547 26.779...</td>\n    </tr>\n    <tr>\n      <th>21</th>\n      <td>22</td>\n      <td>DEUTCH, THEODORE</td>\n      <td>DEMOCRATIC</td>\n      <td>FL</td>\n      <td>12</td>\n      <td>117</td>\n      <td>US DISTRICT 22</td>\n      <td>2021-01-03</td>\n      <td>22</td>\n      <td>6.781602e+08</td>\n      <td>1.910382e+05</td>\n      <td>POLYGON ((-80.00689 26.42646, -80.01100 26.391...</td>\n    </tr>\n    <tr>\n      <th>22</th>\n      <td>23</td>\n      <td>WASSERMAN SCHULTZ, DEBBIE</td>\n      <td>DEMOCRATIC</td>\n      <td>FL</td>\n      <td>12</td>\n      <td>117</td>\n      <td>US DISTRICT 23</td>\n      <td>2021-01-03</td>\n      <td>23</td>\n      <td>6.710726e+08</td>\n      <td>1.811324e+05</td>\n      <td>POLYGON ((-80.29888 26.18692, -80.29885 26.186...</td>\n    </tr>\n    <tr>\n      <th>23</th>\n      <td>24</td>\n      <td>WILSON, FREDERICA</td>\n      <td>DEMOCRATIC</td>\n      <td>FL</td>\n      <td>12</td>\n      <td>117</td>\n      <td>US DISTRICT 24</td>\n      <td>2021-01-03</td>\n      <td>24</td>\n      <td>2.982343e+08</td>\n      <td>1.114995e+05</td>\n      <td>POLYGON ((-80.16795 26.02489, -80.16793 26.024...</td>\n    </tr>\n    <tr>\n      <th>24</th>\n      <td>25</td>\n      <td>DIAZ-BALART, MARIO</td>\n      <td>REPUBLICAN</td>\n      <td>FL</td>\n      <td>12</td>\n      <td>117</td>\n      <td>US DISTRICT 25</td>\n      <td>2021-01-03</td>\n      <td>25</td>\n      <td>9.524863e+09</td>\n      <td>5.808502e+05</td>\n      <td>POLYGON ((-80.88617 26.76714, -80.88617 26.767...</td>\n    </tr>\n    <tr>\n      <th>25</th>\n      <td>26</td>\n      <td>GIMENEZ, CARLOS</td>\n      <td>REPUBLICAN</td>\n      <td>FL</td>\n      <td>12</td>\n      <td>117</td>\n      <td>US DISTRICT 26</td>\n      <td>2021-01-03</td>\n      <td>26</td>\n      <td>1.339368e+10</td>\n      <td>8.763250e+05</td>\n      <td>MULTIPOLYGON (((-80.87310 25.80513, -80.87316 ...</td>\n    </tr>\n    <tr>\n      <th>26</th>\n      <td>27</td>\n      <td>SALAZAR, MARIA</td>\n      <td>REPUBLICAN</td>\n      <td>FL</td>\n      <td>12</td>\n      <td>117</td>\n      <td>US DISTRICT 27</td>\n      <td>2021-01-03</td>\n      <td>27</td>\n      <td>8.907088e+08</td>\n      <td>1.549961e+05</td>\n      <td>POLYGON ((-80.11035 25.87249, -80.06098 25.870...</td>\n    </tr>\n  </tbody>\n</table>\n</div>"
     },
     "metadata": {},
     "execution_count": 62
    }
   ],
   "source": [
    "gdf.to_crs(4326)"
   ]
  },
  {
   "cell_type": "code",
   "execution_count": null,
   "metadata": {},
   "outputs": [],
   "source": [
    "raw_data=\"/Users/hallacy/openai/Mar21-housing-insecurity/data/raw/hillsborough_county_evictions_geocoded.csv\""
   ]
  }
 ]
}