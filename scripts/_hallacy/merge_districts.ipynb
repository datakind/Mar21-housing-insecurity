{
 "metadata": {
  "language_info": {
   "codemirror_mode": {
    "name": "ipython",
    "version": 3
   },
   "file_extension": ".py",
   "mimetype": "text/x-python",
   "name": "python",
   "nbconvert_exporter": "python",
   "pygments_lexer": "ipython3",
   "version": "3.7.3-final"
  },
  "orig_nbformat": 2,
  "kernelspec": {
   "name": "python3",
   "display_name": "Python 3.7.3 64-bit ('datadive': conda)",
   "metadata": {
    "interpreter": {
     "hash": "4491534e06aa544e0184784fe429c853727a8b11185c1d77657fc39e8e6585f4"
    }
   }
  }
 },
 "nbformat": 4,
 "nbformat_minor": 2,
 "cells": [
  {
   "cell_type": "code",
   "execution_count": 1,
   "metadata": {},
   "outputs": [],
   "source": [
    "import git\n",
    "import geopandas\n",
    "import pandas as pd"
   ]
  },
  {
   "cell_type": "code",
   "execution_count": 2,
   "metadata": {},
   "outputs": [],
   "source": [
    "repo = git.Repo('.', search_parent_directories=True)\n",
    "repo_path = repo.working_tree_dir\n",
    "\n",
    "state_senate_districts_dataset = f\"zip://{repo_path}/data/geo/florida_sdist_2021.zip\"\n",
    "us_rep_districts_dataset = f\"zip://{repo_path}/data/geo/florida_usdist_2021.zip\"\n",
    "raw_data=f\"{repo_path}/data/raw/hillsborough_county_evictions_geocoded.csv\"\n",
    "output_file=f\"{repo_path}/data/_volunteer_created_datasets/_hallacy/hillsborough_county_evictions_geocoded.csv\""
   ]
  },
  {
   "cell_type": "code",
   "execution_count": 3,
   "metadata": {},
   "outputs": [],
   "source": [
    "# Load district datasets\n",
    "# 4326 turns the coordinates into lat long\n",
    "input_dataset = pd.read_csv(raw_data)\n",
    "\n",
    "state_senate_gdf = geopandas.read_file(state_senate_districts_dataset).to_crs(4326)\n",
    "us_gdf = geopandas.read_file(us_rep_districts_dataset).to_crs(4326)"
   ]
  },
  {
   "cell_type": "code",
   "execution_count": 4,
   "metadata": {},
   "outputs": [
    {
     "output_type": "execute_result",
     "data": {
      "text/plain": [
       "         Court Type BusinessName    LastName FirstName MiddleName Suffix  \\\n",
       "0      County Court          NaN      Moreno    Ismael        NaN     JR   \n",
       "1      County Court          NaN  ECHEVARRIA     PEDRO        NaN    NaN   \n",
       "2      County Court          NaN       VIERA    SANTOS        NaN    NaN   \n",
       "3      County Court          NaN      GREENE  MENTORIA        NaN    NaN   \n",
       "4      County Court          NaN    Morrison    Lauren        NaN    NaN   \n",
       "...             ...          ...         ...       ...        ...    ...   \n",
       "38215  County Court          NaN      AUSTIN  QUANISHA        NaN    NaN   \n",
       "38216  County Court          NaN       Avila     Katty        NaN    NaN   \n",
       "38217  County Court          NaN      AVILES    HECTOR        NaN    NaN   \n",
       "38218  County Court          NaN      AYCOCK    ALYSIA          D    NaN   \n",
       "38219  County Court          NaN      AZDOUR     SANAA        NaN    NaN   \n",
       "\n",
       "      Party Connection Type   Uniform Case Number  Uniform Traffic Citation  \\\n",
       "0                 Defendant  292016CC040626A001HC                       NaN   \n",
       "1                 Defendant  292016CC040089A001HC                       NaN   \n",
       "2                 Defendant  292016CC039352A001HC                       NaN   \n",
       "3                 Defendant  292016CC040397A001HC                       NaN   \n",
       "4                 Defendant  292016CC040683A001HC                       NaN   \n",
       "...                     ...                   ...                       ...   \n",
       "38215             Defendant  292019CC053474A001HC                       NaN   \n",
       "38216             Defendant  292019CC059569A001HC                       NaN   \n",
       "38217             Defendant  292019CC058211A001HC                       NaN   \n",
       "38218             Defendant  292019CC045071A001HC                       NaN   \n",
       "38219             Defendant  292019CC033660A001HC                       NaN   \n",
       "\n",
       "                                  Case Type  ... match_indicator match_type  \\\n",
       "0      LT Delinquent Tenant $0.00 - $15,000  ...           Match      Exact   \n",
       "1      LT Delinquent Tenant $0.00 - $15,000  ...           Match      Exact   \n",
       "2      LT Removal of Tenant $0.00 - $15,000  ...           Match  Non_Exact   \n",
       "3      LT Delinquent Tenant $0.00 - $15,000  ...           Match      Exact   \n",
       "4      LT Delinquent Tenant $0.00 - $15,000  ...           Match  Non_Exact   \n",
       "...                                     ...  ...             ...        ...   \n",
       "38215  LT Delinquent Tenant $0.00 - $15,000  ...           Match      Exact   \n",
       "38216  LT Removal of Tenant $0.00 - $15,000  ...           Match      Exact   \n",
       "38217  LT Delinquent Tenant $0.00 - $15,000  ...        No_Match        NaN   \n",
       "38218  LT Delinquent Tenant $0.00 - $15,000  ...             Tie        NaN   \n",
       "38219  LT Delinquent Tenant $0.00 - $15,000  ...           Match      Exact   \n",
       "\n",
       "                                  matched_address               lon_lat  \\\n",
       "0          8214 SOLANO BAY LOOP, TAMPA, FL, 33635   -82.640305,28.02787   \n",
       "1        1362 FOUR SEASONS BLVD, TAMPA, FL, 33613   -82.44465,28.076885   \n",
       "2                14521 FALL CIR, TAMPA, FL, 33613    -82.44785,28.07888   \n",
       "3               5224 PICADOR CT, TAMPA, FL, 33617  -82.398155,28.026003   \n",
       "4      6548 OSPREY LAKE CIR, RIVERVIEW, FL, 33578    -82.32808,27.89233   \n",
       "...                                           ...                   ...   \n",
       "38215     7163 FAIRVIEW PARK DR, TAMPA, FL, 33619    -82.37599,27.97992   \n",
       "38216             8414 AIKEN CT, TAMPA, FL, 33615    -82.5741,28.026194   \n",
       "38217                                         NaN                   NaN   \n",
       "38218                                         NaN                   NaN   \n",
       "38219     10929 BLACK SWAN CT, SEFFNER, FL, 33584  -82.318016,27.977394   \n",
       "\n",
       "      tiger_line_id side state_code county_code tract_code block_code  \n",
       "0       104614264.0    L       12.0        57.0    11709.0     1000.0  \n",
       "1       104512179.0    L       12.0        57.0    10817.0     1005.0  \n",
       "2       104512169.0    L       12.0        57.0    10817.0     1012.0  \n",
       "3       104532732.0    L       12.0        57.0      902.0     2001.0  \n",
       "4       104641386.0    L       12.0        57.0    13410.0     2003.0  \n",
       "...             ...  ...        ...         ...        ...        ...  \n",
       "38215   104618370.0    R       12.0        57.0    12002.0     1007.0  \n",
       "38216   104556093.0    L       12.0        57.0    11610.0     3009.0  \n",
       "38217           NaN  NaN        NaN         NaN        NaN        NaN  \n",
       "38218           NaN  NaN        NaN         NaN        NaN        NaN  \n",
       "38219   633887136.0    R       12.0        57.0    12104.0     3027.0  \n",
       "\n",
       "[38220 rows x 67 columns]"
      ],
      "text/html": "<div>\n<style scoped>\n    .dataframe tbody tr th:only-of-type {\n        vertical-align: middle;\n    }\n\n    .dataframe tbody tr th {\n        vertical-align: top;\n    }\n\n    .dataframe thead th {\n        text-align: right;\n    }\n</style>\n<table border=\"1\" class=\"dataframe\">\n  <thead>\n    <tr style=\"text-align: right;\">\n      <th></th>\n      <th>Court Type</th>\n      <th>BusinessName</th>\n      <th>LastName</th>\n      <th>FirstName</th>\n      <th>MiddleName</th>\n      <th>Suffix</th>\n      <th>Party Connection Type</th>\n      <th>Uniform Case Number</th>\n      <th>Uniform Traffic Citation</th>\n      <th>Case Type</th>\n      <th>...</th>\n      <th>match_indicator</th>\n      <th>match_type</th>\n      <th>matched_address</th>\n      <th>lon_lat</th>\n      <th>tiger_line_id</th>\n      <th>side</th>\n      <th>state_code</th>\n      <th>county_code</th>\n      <th>tract_code</th>\n      <th>block_code</th>\n    </tr>\n  </thead>\n  <tbody>\n    <tr>\n      <th>0</th>\n      <td>County Court</td>\n      <td>NaN</td>\n      <td>Moreno</td>\n      <td>Ismael</td>\n      <td>NaN</td>\n      <td>JR</td>\n      <td>Defendant</td>\n      <td>292016CC040626A001HC</td>\n      <td>NaN</td>\n      <td>LT Delinquent Tenant $0.00 - $15,000</td>\n      <td>...</td>\n      <td>Match</td>\n      <td>Exact</td>\n      <td>8214 SOLANO BAY LOOP, TAMPA, FL, 33635</td>\n      <td>-82.640305,28.02787</td>\n      <td>104614264.0</td>\n      <td>L</td>\n      <td>12.0</td>\n      <td>57.0</td>\n      <td>11709.0</td>\n      <td>1000.0</td>\n    </tr>\n    <tr>\n      <th>1</th>\n      <td>County Court</td>\n      <td>NaN</td>\n      <td>ECHEVARRIA</td>\n      <td>PEDRO</td>\n      <td>NaN</td>\n      <td>NaN</td>\n      <td>Defendant</td>\n      <td>292016CC040089A001HC</td>\n      <td>NaN</td>\n      <td>LT Delinquent Tenant $0.00 - $15,000</td>\n      <td>...</td>\n      <td>Match</td>\n      <td>Exact</td>\n      <td>1362 FOUR SEASONS BLVD, TAMPA, FL, 33613</td>\n      <td>-82.44465,28.076885</td>\n      <td>104512179.0</td>\n      <td>L</td>\n      <td>12.0</td>\n      <td>57.0</td>\n      <td>10817.0</td>\n      <td>1005.0</td>\n    </tr>\n    <tr>\n      <th>2</th>\n      <td>County Court</td>\n      <td>NaN</td>\n      <td>VIERA</td>\n      <td>SANTOS</td>\n      <td>NaN</td>\n      <td>NaN</td>\n      <td>Defendant</td>\n      <td>292016CC039352A001HC</td>\n      <td>NaN</td>\n      <td>LT Removal of Tenant $0.00 - $15,000</td>\n      <td>...</td>\n      <td>Match</td>\n      <td>Non_Exact</td>\n      <td>14521 FALL CIR, TAMPA, FL, 33613</td>\n      <td>-82.44785,28.07888</td>\n      <td>104512169.0</td>\n      <td>L</td>\n      <td>12.0</td>\n      <td>57.0</td>\n      <td>10817.0</td>\n      <td>1012.0</td>\n    </tr>\n    <tr>\n      <th>3</th>\n      <td>County Court</td>\n      <td>NaN</td>\n      <td>GREENE</td>\n      <td>MENTORIA</td>\n      <td>NaN</td>\n      <td>NaN</td>\n      <td>Defendant</td>\n      <td>292016CC040397A001HC</td>\n      <td>NaN</td>\n      <td>LT Delinquent Tenant $0.00 - $15,000</td>\n      <td>...</td>\n      <td>Match</td>\n      <td>Exact</td>\n      <td>5224 PICADOR CT, TAMPA, FL, 33617</td>\n      <td>-82.398155,28.026003</td>\n      <td>104532732.0</td>\n      <td>L</td>\n      <td>12.0</td>\n      <td>57.0</td>\n      <td>902.0</td>\n      <td>2001.0</td>\n    </tr>\n    <tr>\n      <th>4</th>\n      <td>County Court</td>\n      <td>NaN</td>\n      <td>Morrison</td>\n      <td>Lauren</td>\n      <td>NaN</td>\n      <td>NaN</td>\n      <td>Defendant</td>\n      <td>292016CC040683A001HC</td>\n      <td>NaN</td>\n      <td>LT Delinquent Tenant $0.00 - $15,000</td>\n      <td>...</td>\n      <td>Match</td>\n      <td>Non_Exact</td>\n      <td>6548 OSPREY LAKE CIR, RIVERVIEW, FL, 33578</td>\n      <td>-82.32808,27.89233</td>\n      <td>104641386.0</td>\n      <td>L</td>\n      <td>12.0</td>\n      <td>57.0</td>\n      <td>13410.0</td>\n      <td>2003.0</td>\n    </tr>\n    <tr>\n      <th>...</th>\n      <td>...</td>\n      <td>...</td>\n      <td>...</td>\n      <td>...</td>\n      <td>...</td>\n      <td>...</td>\n      <td>...</td>\n      <td>...</td>\n      <td>...</td>\n      <td>...</td>\n      <td>...</td>\n      <td>...</td>\n      <td>...</td>\n      <td>...</td>\n      <td>...</td>\n      <td>...</td>\n      <td>...</td>\n      <td>...</td>\n      <td>...</td>\n      <td>...</td>\n      <td>...</td>\n    </tr>\n    <tr>\n      <th>38215</th>\n      <td>County Court</td>\n      <td>NaN</td>\n      <td>AUSTIN</td>\n      <td>QUANISHA</td>\n      <td>NaN</td>\n      <td>NaN</td>\n      <td>Defendant</td>\n      <td>292019CC053474A001HC</td>\n      <td>NaN</td>\n      <td>LT Delinquent Tenant $0.00 - $15,000</td>\n      <td>...</td>\n      <td>Match</td>\n      <td>Exact</td>\n      <td>7163 FAIRVIEW PARK DR, TAMPA, FL, 33619</td>\n      <td>-82.37599,27.97992</td>\n      <td>104618370.0</td>\n      <td>R</td>\n      <td>12.0</td>\n      <td>57.0</td>\n      <td>12002.0</td>\n      <td>1007.0</td>\n    </tr>\n    <tr>\n      <th>38216</th>\n      <td>County Court</td>\n      <td>NaN</td>\n      <td>Avila</td>\n      <td>Katty</td>\n      <td>NaN</td>\n      <td>NaN</td>\n      <td>Defendant</td>\n      <td>292019CC059569A001HC</td>\n      <td>NaN</td>\n      <td>LT Removal of Tenant $0.00 - $15,000</td>\n      <td>...</td>\n      <td>Match</td>\n      <td>Exact</td>\n      <td>8414 AIKEN CT, TAMPA, FL, 33615</td>\n      <td>-82.5741,28.026194</td>\n      <td>104556093.0</td>\n      <td>L</td>\n      <td>12.0</td>\n      <td>57.0</td>\n      <td>11610.0</td>\n      <td>3009.0</td>\n    </tr>\n    <tr>\n      <th>38217</th>\n      <td>County Court</td>\n      <td>NaN</td>\n      <td>AVILES</td>\n      <td>HECTOR</td>\n      <td>NaN</td>\n      <td>NaN</td>\n      <td>Defendant</td>\n      <td>292019CC058211A001HC</td>\n      <td>NaN</td>\n      <td>LT Delinquent Tenant $0.00 - $15,000</td>\n      <td>...</td>\n      <td>No_Match</td>\n      <td>NaN</td>\n      <td>NaN</td>\n      <td>NaN</td>\n      <td>NaN</td>\n      <td>NaN</td>\n      <td>NaN</td>\n      <td>NaN</td>\n      <td>NaN</td>\n      <td>NaN</td>\n    </tr>\n    <tr>\n      <th>38218</th>\n      <td>County Court</td>\n      <td>NaN</td>\n      <td>AYCOCK</td>\n      <td>ALYSIA</td>\n      <td>D</td>\n      <td>NaN</td>\n      <td>Defendant</td>\n      <td>292019CC045071A001HC</td>\n      <td>NaN</td>\n      <td>LT Delinquent Tenant $0.00 - $15,000</td>\n      <td>...</td>\n      <td>Tie</td>\n      <td>NaN</td>\n      <td>NaN</td>\n      <td>NaN</td>\n      <td>NaN</td>\n      <td>NaN</td>\n      <td>NaN</td>\n      <td>NaN</td>\n      <td>NaN</td>\n      <td>NaN</td>\n    </tr>\n    <tr>\n      <th>38219</th>\n      <td>County Court</td>\n      <td>NaN</td>\n      <td>AZDOUR</td>\n      <td>SANAA</td>\n      <td>NaN</td>\n      <td>NaN</td>\n      <td>Defendant</td>\n      <td>292019CC033660A001HC</td>\n      <td>NaN</td>\n      <td>LT Delinquent Tenant $0.00 - $15,000</td>\n      <td>...</td>\n      <td>Match</td>\n      <td>Exact</td>\n      <td>10929 BLACK SWAN CT, SEFFNER, FL, 33584</td>\n      <td>-82.318016,27.977394</td>\n      <td>633887136.0</td>\n      <td>R</td>\n      <td>12.0</td>\n      <td>57.0</td>\n      <td>12104.0</td>\n      <td>3027.0</td>\n    </tr>\n  </tbody>\n</table>\n<p>38220 rows × 67 columns</p>\n</div>"
     },
     "metadata": {},
     "execution_count": 4
    }
   ],
   "source": [
    "# Load raw input dataset\n",
    "input_dataset = pd.read_csv(raw_data)\n",
    "original_schema = list(input_dataset.columns.values)\n",
    "input_dataset"
   ]
  },
  {
   "cell_type": "code",
   "execution_count": 5,
   "metadata": {},
   "outputs": [
    {
     "output_type": "execute_result",
     "data": {
      "text/plain": [
       "                    lon_lat         lon        lat\n",
       "0       -82.640305,28.02787  -82.640305   28.02787\n",
       "1       -82.44465,28.076885   -82.44465  28.076885\n",
       "2        -82.44785,28.07888   -82.44785   28.07888\n",
       "3      -82.398155,28.026003  -82.398155  28.026003\n",
       "4        -82.32808,27.89233   -82.32808   27.89233\n",
       "...                     ...         ...        ...\n",
       "38215    -82.37599,27.97992   -82.37599   27.97992\n",
       "38216    -82.5741,28.026194    -82.5741  28.026194\n",
       "38217                   NaN         NaN        NaN\n",
       "38218                   NaN         NaN        NaN\n",
       "38219  -82.318016,27.977394  -82.318016  27.977394\n",
       "\n",
       "[38220 rows x 3 columns]"
      ],
      "text/html": "<div>\n<style scoped>\n    .dataframe tbody tr th:only-of-type {\n        vertical-align: middle;\n    }\n\n    .dataframe tbody tr th {\n        vertical-align: top;\n    }\n\n    .dataframe thead th {\n        text-align: right;\n    }\n</style>\n<table border=\"1\" class=\"dataframe\">\n  <thead>\n    <tr style=\"text-align: right;\">\n      <th></th>\n      <th>lon_lat</th>\n      <th>lon</th>\n      <th>lat</th>\n    </tr>\n  </thead>\n  <tbody>\n    <tr>\n      <th>0</th>\n      <td>-82.640305,28.02787</td>\n      <td>-82.640305</td>\n      <td>28.02787</td>\n    </tr>\n    <tr>\n      <th>1</th>\n      <td>-82.44465,28.076885</td>\n      <td>-82.44465</td>\n      <td>28.076885</td>\n    </tr>\n    <tr>\n      <th>2</th>\n      <td>-82.44785,28.07888</td>\n      <td>-82.44785</td>\n      <td>28.07888</td>\n    </tr>\n    <tr>\n      <th>3</th>\n      <td>-82.398155,28.026003</td>\n      <td>-82.398155</td>\n      <td>28.026003</td>\n    </tr>\n    <tr>\n      <th>4</th>\n      <td>-82.32808,27.89233</td>\n      <td>-82.32808</td>\n      <td>27.89233</td>\n    </tr>\n    <tr>\n      <th>...</th>\n      <td>...</td>\n      <td>...</td>\n      <td>...</td>\n    </tr>\n    <tr>\n      <th>38215</th>\n      <td>-82.37599,27.97992</td>\n      <td>-82.37599</td>\n      <td>27.97992</td>\n    </tr>\n    <tr>\n      <th>38216</th>\n      <td>-82.5741,28.026194</td>\n      <td>-82.5741</td>\n      <td>28.026194</td>\n    </tr>\n    <tr>\n      <th>38217</th>\n      <td>NaN</td>\n      <td>NaN</td>\n      <td>NaN</td>\n    </tr>\n    <tr>\n      <th>38218</th>\n      <td>NaN</td>\n      <td>NaN</td>\n      <td>NaN</td>\n    </tr>\n    <tr>\n      <th>38219</th>\n      <td>-82.318016,27.977394</td>\n      <td>-82.318016</td>\n      <td>27.977394</td>\n    </tr>\n  </tbody>\n</table>\n<p>38220 rows × 3 columns</p>\n</div>"
     },
     "metadata": {},
     "execution_count": 5
    }
   ],
   "source": [
    "# Grab lat long for joining\n",
    "input_dataset[['lon','lat']] = input_dataset.lon_lat.str.split(',', expand=True)\n",
    "input_dataset[['lon_lat','lon','lat']]\n"
   ]
  },
  {
   "cell_type": "code",
   "execution_count": 6,
   "metadata": {},
   "outputs": [
    {
     "output_type": "execute_result",
     "data": {
      "text/plain": [
       "0        POINT (-82.64030 28.02787)\n",
       "1        POINT (-82.44465 28.07689)\n",
       "2        POINT (-82.44785 28.07888)\n",
       "3        POINT (-82.39816 28.02600)\n",
       "4        POINT (-82.32808 27.89233)\n",
       "                    ...            \n",
       "38215    POINT (-82.37599 27.97992)\n",
       "38216    POINT (-82.57410 28.02619)\n",
       "38217               POINT (nan nan)\n",
       "38218               POINT (nan nan)\n",
       "38219    POINT (-82.31802 27.97739)\n",
       "Name: geometry, Length: 38220, dtype: geometry"
      ]
     },
     "metadata": {},
     "execution_count": 6
    }
   ],
   "source": [
    "# Transform into geopandas dataframe\n",
    "input_dataset_gdf = geopandas.GeoDataFrame(input_dataset, geometry=geopandas.points_from_xy(input_dataset.lon, input_dataset.lat, crs=state_senate_gdf.crs))\n",
    "input_dataset_gdf['geometry']\n"
   ]
  },
  {
   "cell_type": "code",
   "execution_count": 7,
   "metadata": {},
   "outputs": [
    {
     "output_type": "execute_result",
     "data": {
      "text/plain": [
       "         Court Type BusinessName    LastName FirstName MiddleName Suffix  \\\n",
       "0      County Court          NaN      Moreno    Ismael        NaN     JR   \n",
       "1      County Court          NaN  ECHEVARRIA     PEDRO        NaN    NaN   \n",
       "2      County Court          NaN       VIERA    SANTOS        NaN    NaN   \n",
       "3      County Court          NaN      GREENE  MENTORIA        NaN    NaN   \n",
       "4      County Court          NaN    Morrison    Lauren        NaN    NaN   \n",
       "...             ...          ...         ...       ...        ...    ...   \n",
       "38215  County Court          NaN      AUSTIN  QUANISHA        NaN    NaN   \n",
       "38216  County Court          NaN       Avila     Katty        NaN    NaN   \n",
       "38217  County Court          NaN      AVILES    HECTOR        NaN    NaN   \n",
       "38218  County Court          NaN      AYCOCK    ALYSIA          D    NaN   \n",
       "38219  County Court          NaN      AZDOUR     SANAA        NaN    NaN   \n",
       "\n",
       "      Party Connection Type   Uniform Case Number  Uniform Traffic Citation  \\\n",
       "0                 Defendant  292016CC040626A001HC                       NaN   \n",
       "1                 Defendant  292016CC040089A001HC                       NaN   \n",
       "2                 Defendant  292016CC039352A001HC                       NaN   \n",
       "3                 Defendant  292016CC040397A001HC                       NaN   \n",
       "4                 Defendant  292016CC040683A001HC                       NaN   \n",
       "...                     ...                   ...                       ...   \n",
       "38215             Defendant  292019CC053474A001HC                       NaN   \n",
       "38216             Defendant  292019CC059569A001HC                       NaN   \n",
       "38217             Defendant  292019CC058211A001HC                       NaN   \n",
       "38218             Defendant  292019CC045071A001HC                       NaN   \n",
       "38219             Defendant  292019CC033660A001HC                       NaN   \n",
       "\n",
       "                                  Case Type  ... index_right DISTRICT  \\\n",
       "0      LT Delinquent Tenant $0.00 - $15,000  ...        17.0      018   \n",
       "1      LT Delinquent Tenant $0.00 - $15,000  ...        19.0      020   \n",
       "2      LT Removal of Tenant $0.00 - $15,000  ...        19.0      020   \n",
       "3      LT Delinquent Tenant $0.00 - $15,000  ...        18.0      019   \n",
       "4      LT Delinquent Tenant $0.00 - $15,000  ...        18.0      019   \n",
       "...                                     ...  ...         ...      ...   \n",
       "38215  LT Delinquent Tenant $0.00 - $15,000  ...        18.0      019   \n",
       "38216  LT Removal of Tenant $0.00 - $15,000  ...        17.0      018   \n",
       "38217  LT Delinquent Tenant $0.00 - $15,000  ...         NaN      NaN   \n",
       "38218  LT Delinquent Tenant $0.00 - $15,000  ...         NaN      NaN   \n",
       "38219  LT Delinquent Tenant $0.00 - $15,000  ...        18.0      019   \n",
       "\n",
       "                    SENATOR       PARTY SESSION_            DESCRIPT  \\\n",
       "0               CRUZ, JANET  DEMOCRATIC     2021  SENATE DISTRICT 18   \n",
       "1                  LEE, TOM  REPUBLICAN     2021  SENATE DISTRICT 20   \n",
       "2                  LEE, TOM  REPUBLICAN     2021  SENATE DISTRICT 20   \n",
       "3      ROUSON, DARRYL ERVIN  DEMOCRATIC     2021  SENATE DISTRICT 19   \n",
       "4      ROUSON, DARRYL ERVIN  DEMOCRATIC     2021  SENATE DISTRICT 19   \n",
       "...                     ...         ...      ...                 ...   \n",
       "38215  ROUSON, DARRYL ERVIN  DEMOCRATIC     2021  SENATE DISTRICT 19   \n",
       "38216           CRUZ, JANET  DEMOCRATIC     2021  SENATE DISTRICT 18   \n",
       "38217                   NaN         NaN      NaN                 NaN   \n",
       "38218                   NaN         NaN      NaN                 NaN   \n",
       "38219  ROUSON, DARRYL ERVIN  DEMOCRATIC     2021  SENATE DISTRICT 19   \n",
       "\n",
       "       FGDLAQDATE AUTOID    SHAPE_AREA      SHAPE_LEN  \n",
       "0      2021-01-03   18.0  6.824771e+08  132135.026018  \n",
       "1      2021-01-03   20.0  1.846512e+09  248073.856350  \n",
       "2      2021-01-03   20.0  1.846512e+09  248073.856350  \n",
       "3      2021-01-03   19.0  9.283215e+08  200602.861590  \n",
       "4      2021-01-03   19.0  9.283215e+08  200602.861590  \n",
       "...           ...    ...           ...            ...  \n",
       "38215  2021-01-03   19.0  9.283215e+08  200602.861590  \n",
       "38216  2021-01-03   18.0  6.824771e+08  132135.026018  \n",
       "38217         NaN    NaN           NaN            NaN  \n",
       "38218         NaN    NaN           NaN            NaN  \n",
       "38219  2021-01-03   19.0  9.283215e+08  200602.861590  \n",
       "\n",
       "[38220 rows x 80 columns]"
      ],
      "text/html": "<div>\n<style scoped>\n    .dataframe tbody tr th:only-of-type {\n        vertical-align: middle;\n    }\n\n    .dataframe tbody tr th {\n        vertical-align: top;\n    }\n\n    .dataframe thead th {\n        text-align: right;\n    }\n</style>\n<table border=\"1\" class=\"dataframe\">\n  <thead>\n    <tr style=\"text-align: right;\">\n      <th></th>\n      <th>Court Type</th>\n      <th>BusinessName</th>\n      <th>LastName</th>\n      <th>FirstName</th>\n      <th>MiddleName</th>\n      <th>Suffix</th>\n      <th>Party Connection Type</th>\n      <th>Uniform Case Number</th>\n      <th>Uniform Traffic Citation</th>\n      <th>Case Type</th>\n      <th>...</th>\n      <th>index_right</th>\n      <th>DISTRICT</th>\n      <th>SENATOR</th>\n      <th>PARTY</th>\n      <th>SESSION_</th>\n      <th>DESCRIPT</th>\n      <th>FGDLAQDATE</th>\n      <th>AUTOID</th>\n      <th>SHAPE_AREA</th>\n      <th>SHAPE_LEN</th>\n    </tr>\n  </thead>\n  <tbody>\n    <tr>\n      <th>0</th>\n      <td>County Court</td>\n      <td>NaN</td>\n      <td>Moreno</td>\n      <td>Ismael</td>\n      <td>NaN</td>\n      <td>JR</td>\n      <td>Defendant</td>\n      <td>292016CC040626A001HC</td>\n      <td>NaN</td>\n      <td>LT Delinquent Tenant $0.00 - $15,000</td>\n      <td>...</td>\n      <td>17.0</td>\n      <td>018</td>\n      <td>CRUZ, JANET</td>\n      <td>DEMOCRATIC</td>\n      <td>2021</td>\n      <td>SENATE DISTRICT 18</td>\n      <td>2021-01-03</td>\n      <td>18.0</td>\n      <td>6.824771e+08</td>\n      <td>132135.026018</td>\n    </tr>\n    <tr>\n      <th>1</th>\n      <td>County Court</td>\n      <td>NaN</td>\n      <td>ECHEVARRIA</td>\n      <td>PEDRO</td>\n      <td>NaN</td>\n      <td>NaN</td>\n      <td>Defendant</td>\n      <td>292016CC040089A001HC</td>\n      <td>NaN</td>\n      <td>LT Delinquent Tenant $0.00 - $15,000</td>\n      <td>...</td>\n      <td>19.0</td>\n      <td>020</td>\n      <td>LEE, TOM</td>\n      <td>REPUBLICAN</td>\n      <td>2021</td>\n      <td>SENATE DISTRICT 20</td>\n      <td>2021-01-03</td>\n      <td>20.0</td>\n      <td>1.846512e+09</td>\n      <td>248073.856350</td>\n    </tr>\n    <tr>\n      <th>2</th>\n      <td>County Court</td>\n      <td>NaN</td>\n      <td>VIERA</td>\n      <td>SANTOS</td>\n      <td>NaN</td>\n      <td>NaN</td>\n      <td>Defendant</td>\n      <td>292016CC039352A001HC</td>\n      <td>NaN</td>\n      <td>LT Removal of Tenant $0.00 - $15,000</td>\n      <td>...</td>\n      <td>19.0</td>\n      <td>020</td>\n      <td>LEE, TOM</td>\n      <td>REPUBLICAN</td>\n      <td>2021</td>\n      <td>SENATE DISTRICT 20</td>\n      <td>2021-01-03</td>\n      <td>20.0</td>\n      <td>1.846512e+09</td>\n      <td>248073.856350</td>\n    </tr>\n    <tr>\n      <th>3</th>\n      <td>County Court</td>\n      <td>NaN</td>\n      <td>GREENE</td>\n      <td>MENTORIA</td>\n      <td>NaN</td>\n      <td>NaN</td>\n      <td>Defendant</td>\n      <td>292016CC040397A001HC</td>\n      <td>NaN</td>\n      <td>LT Delinquent Tenant $0.00 - $15,000</td>\n      <td>...</td>\n      <td>18.0</td>\n      <td>019</td>\n      <td>ROUSON, DARRYL ERVIN</td>\n      <td>DEMOCRATIC</td>\n      <td>2021</td>\n      <td>SENATE DISTRICT 19</td>\n      <td>2021-01-03</td>\n      <td>19.0</td>\n      <td>9.283215e+08</td>\n      <td>200602.861590</td>\n    </tr>\n    <tr>\n      <th>4</th>\n      <td>County Court</td>\n      <td>NaN</td>\n      <td>Morrison</td>\n      <td>Lauren</td>\n      <td>NaN</td>\n      <td>NaN</td>\n      <td>Defendant</td>\n      <td>292016CC040683A001HC</td>\n      <td>NaN</td>\n      <td>LT Delinquent Tenant $0.00 - $15,000</td>\n      <td>...</td>\n      <td>18.0</td>\n      <td>019</td>\n      <td>ROUSON, DARRYL ERVIN</td>\n      <td>DEMOCRATIC</td>\n      <td>2021</td>\n      <td>SENATE DISTRICT 19</td>\n      <td>2021-01-03</td>\n      <td>19.0</td>\n      <td>9.283215e+08</td>\n      <td>200602.861590</td>\n    </tr>\n    <tr>\n      <th>...</th>\n      <td>...</td>\n      <td>...</td>\n      <td>...</td>\n      <td>...</td>\n      <td>...</td>\n      <td>...</td>\n      <td>...</td>\n      <td>...</td>\n      <td>...</td>\n      <td>...</td>\n      <td>...</td>\n      <td>...</td>\n      <td>...</td>\n      <td>...</td>\n      <td>...</td>\n      <td>...</td>\n      <td>...</td>\n      <td>...</td>\n      <td>...</td>\n      <td>...</td>\n      <td>...</td>\n    </tr>\n    <tr>\n      <th>38215</th>\n      <td>County Court</td>\n      <td>NaN</td>\n      <td>AUSTIN</td>\n      <td>QUANISHA</td>\n      <td>NaN</td>\n      <td>NaN</td>\n      <td>Defendant</td>\n      <td>292019CC053474A001HC</td>\n      <td>NaN</td>\n      <td>LT Delinquent Tenant $0.00 - $15,000</td>\n      <td>...</td>\n      <td>18.0</td>\n      <td>019</td>\n      <td>ROUSON, DARRYL ERVIN</td>\n      <td>DEMOCRATIC</td>\n      <td>2021</td>\n      <td>SENATE DISTRICT 19</td>\n      <td>2021-01-03</td>\n      <td>19.0</td>\n      <td>9.283215e+08</td>\n      <td>200602.861590</td>\n    </tr>\n    <tr>\n      <th>38216</th>\n      <td>County Court</td>\n      <td>NaN</td>\n      <td>Avila</td>\n      <td>Katty</td>\n      <td>NaN</td>\n      <td>NaN</td>\n      <td>Defendant</td>\n      <td>292019CC059569A001HC</td>\n      <td>NaN</td>\n      <td>LT Removal of Tenant $0.00 - $15,000</td>\n      <td>...</td>\n      <td>17.0</td>\n      <td>018</td>\n      <td>CRUZ, JANET</td>\n      <td>DEMOCRATIC</td>\n      <td>2021</td>\n      <td>SENATE DISTRICT 18</td>\n      <td>2021-01-03</td>\n      <td>18.0</td>\n      <td>6.824771e+08</td>\n      <td>132135.026018</td>\n    </tr>\n    <tr>\n      <th>38217</th>\n      <td>County Court</td>\n      <td>NaN</td>\n      <td>AVILES</td>\n      <td>HECTOR</td>\n      <td>NaN</td>\n      <td>NaN</td>\n      <td>Defendant</td>\n      <td>292019CC058211A001HC</td>\n      <td>NaN</td>\n      <td>LT Delinquent Tenant $0.00 - $15,000</td>\n      <td>...</td>\n      <td>NaN</td>\n      <td>NaN</td>\n      <td>NaN</td>\n      <td>NaN</td>\n      <td>NaN</td>\n      <td>NaN</td>\n      <td>NaN</td>\n      <td>NaN</td>\n      <td>NaN</td>\n      <td>NaN</td>\n    </tr>\n    <tr>\n      <th>38218</th>\n      <td>County Court</td>\n      <td>NaN</td>\n      <td>AYCOCK</td>\n      <td>ALYSIA</td>\n      <td>D</td>\n      <td>NaN</td>\n      <td>Defendant</td>\n      <td>292019CC045071A001HC</td>\n      <td>NaN</td>\n      <td>LT Delinquent Tenant $0.00 - $15,000</td>\n      <td>...</td>\n      <td>NaN</td>\n      <td>NaN</td>\n      <td>NaN</td>\n      <td>NaN</td>\n      <td>NaN</td>\n      <td>NaN</td>\n      <td>NaN</td>\n      <td>NaN</td>\n      <td>NaN</td>\n      <td>NaN</td>\n    </tr>\n    <tr>\n      <th>38219</th>\n      <td>County Court</td>\n      <td>NaN</td>\n      <td>AZDOUR</td>\n      <td>SANAA</td>\n      <td>NaN</td>\n      <td>NaN</td>\n      <td>Defendant</td>\n      <td>292019CC033660A001HC</td>\n      <td>NaN</td>\n      <td>LT Delinquent Tenant $0.00 - $15,000</td>\n      <td>...</td>\n      <td>18.0</td>\n      <td>019</td>\n      <td>ROUSON, DARRYL ERVIN</td>\n      <td>DEMOCRATIC</td>\n      <td>2021</td>\n      <td>SENATE DISTRICT 19</td>\n      <td>2021-01-03</td>\n      <td>19.0</td>\n      <td>9.283215e+08</td>\n      <td>200602.861590</td>\n    </tr>\n  </tbody>\n</table>\n<p>38220 rows × 80 columns</p>\n</div>"
     },
     "metadata": {},
     "execution_count": 7
    }
   ],
   "source": [
    "# Join with state senate data\n",
    "jdf = geopandas.sjoin(input_dataset_gdf, state_senate_gdf, op='within',how='left')\n",
    "jdf"
   ]
  },
  {
   "cell_type": "code",
   "execution_count": 8,
   "metadata": {},
   "outputs": [],
   "source": [
    "# Rename DISTRICT field so we don't overwrite it in the next join\n",
    "state_senate_name = \"state_senate_district\"\n",
    "jdf = jdf.rename(columns={\"DISTRICT\": state_senate_name})"
   ]
  },
  {
   "cell_type": "code",
   "execution_count": 9,
   "metadata": {},
   "outputs": [],
   "source": [
    "# These are remnants of the join and cause an exception if left in\n",
    "jdf = jdf.drop(['index_right'], axis=1)"
   ]
  },
  {
   "cell_type": "code",
   "execution_count": 10,
   "metadata": {},
   "outputs": [],
   "source": [
    "# Join in us district data\n",
    "jdf = geopandas.sjoin(jdf, us_gdf, op='within',how='left')"
   ]
  },
  {
   "cell_type": "code",
   "execution_count": 11,
   "metadata": {},
   "outputs": [
    {
     "output_type": "execute_result",
     "data": {
      "text/plain": [
       "['Court Type',\n",
       " 'BusinessName',\n",
       " 'LastName',\n",
       " 'FirstName',\n",
       " 'MiddleName',\n",
       " 'Suffix',\n",
       " 'Party Connection Type',\n",
       " 'Uniform Case Number',\n",
       " 'Uniform Traffic Citation',\n",
       " 'Case Type',\n",
       " 'Division',\n",
       " 'Judge Name',\n",
       " 'Date Filed',\n",
       " 'Current Status',\n",
       " 'Current Status Date',\n",
       " 'Sex/Gender',\n",
       " 'Party Address Line 1',\n",
       " 'Party Address Line 2',\n",
       " 'Party Address City',\n",
       " 'Party Address State',\n",
       " 'Party Address Zip Code',\n",
       " 'Race',\n",
       " 'Date of Birth',\n",
       " 'Count Number',\n",
       " 'Count Level and Degree',\n",
       " 'Statute Violation',\n",
       " 'Charge Description',\n",
       " 'Offense Date',\n",
       " 'Disposition Code',\n",
       " 'Disposition Description',\n",
       " 'Disposition Date',\n",
       " 'Law Enforcement Agency Name',\n",
       " 'Law Enforcement Officer Name',\n",
       " 'Driver License Number',\n",
       " 'Driver License State',\n",
       " 'Commercial Vehicle',\n",
       " 'Blood Alcohol Level',\n",
       " 'Posted Speed',\n",
       " 'Actual Speed',\n",
       " 'Amount Paid',\n",
       " 'Date Paid',\n",
       " 'Defensive Driving School (DDS)',\n",
       " 'DDS Court Ordered',\n",
       " 'DDS Elected (Regular)',\n",
       " 'DDS Elected (Advanced)',\n",
       " 'Tag Number',\n",
       " 'Tag State',\n",
       " 'School Certificate Due Date',\n",
       " 'School Certificate Complete Date',\n",
       " 'AKAs',\n",
       " 'Balance Due',\n",
       " 'Year Filed',\n",
       " 'Year Disposed',\n",
       " 'Loss Type',\n",
       " 'Address CLEANED',\n",
       " 'Zip Code CLEANED',\n",
       " 'input_address',\n",
       " 'match_indicator',\n",
       " 'match_type',\n",
       " 'matched_address',\n",
       " 'lon_lat',\n",
       " 'tiger_line_id',\n",
       " 'side',\n",
       " 'state_code',\n",
       " 'county_code',\n",
       " 'tract_code',\n",
       " 'block_code',\n",
       " 'state_senate_district',\n",
       " 'us_district']"
      ]
     },
     "metadata": {},
     "execution_count": 11
    }
   ],
   "source": [
    "# And now rename the district data and truncate only to the original columns and district number\n",
    "us_district_name = \"us_district\"\n",
    "jdf = jdf.rename(columns={\"DISTRICT\": us_district_name})\n",
    "\n",
    "columns_to_get = list(original_schema) + [state_senate_name, us_district_name]\n",
    "columns_to_get"
   ]
  },
  {
   "cell_type": "code",
   "execution_count": 12,
   "metadata": {},
   "outputs": [],
   "source": [
    "# export\n",
    "final_dataset = jdf[columns_to_get]\n",
    "final_dataset.to_csv(output_file)"
   ]
  },
  {
   "cell_type": "code",
   "execution_count": null,
   "metadata": {},
   "outputs": [],
   "source": []
  }
 ]
}